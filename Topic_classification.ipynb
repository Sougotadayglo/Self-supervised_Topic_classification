{
  "nbformat": 4,
  "nbformat_minor": 0,
  "metadata": {
    "colab": {
      "name": "Topic classification.ipynb",
      "provenance": [],
      "mount_file_id": "1B0NoZEhSk5LbsGJwvOnRL-TQWGBtOCoE",
      "authorship_tag": "ABX9TyM0VgwapiZyFvrs8jzsskI/",
      "include_colab_link": true
    },
    "kernelspec": {
      "name": "python3",
      "display_name": "Python 3"
    },
    "language_info": {
      "name": "python"
    },
    "widgets": {
      "application/vnd.jupyter.widget-state+json": {
        "c7972eb39a38488f97906222ae4398d9": {
          "model_module": "@jupyter-widgets/controls",
          "model_name": "HBoxModel",
          "model_module_version": "1.5.0",
          "state": {
            "_view_name": "HBoxView",
            "_dom_classes": [],
            "_model_name": "HBoxModel",
            "_view_module": "@jupyter-widgets/controls",
            "_model_module_version": "1.5.0",
            "_view_count": null,
            "_view_module_version": "1.5.0",
            "box_style": "",
            "layout": "IPY_MODEL_aeb9be1db5154c52b393820db5e8729a",
            "_model_module": "@jupyter-widgets/controls",
            "children": [
              "IPY_MODEL_c197ff639c8e4635bd23cb062ee461f0",
              "IPY_MODEL_d3743d9bc0fc4b048bc1fb518d7636ec"
            ]
          }
        },
        "aeb9be1db5154c52b393820db5e8729a": {
          "model_module": "@jupyter-widgets/base",
          "model_name": "LayoutModel",
          "model_module_version": "1.2.0",
          "state": {
            "_view_name": "LayoutView",
            "grid_template_rows": null,
            "right": null,
            "justify_content": null,
            "_view_module": "@jupyter-widgets/base",
            "overflow": null,
            "_model_module_version": "1.2.0",
            "_view_count": null,
            "flex_flow": null,
            "width": null,
            "min_width": null,
            "border": null,
            "align_items": null,
            "bottom": null,
            "_model_module": "@jupyter-widgets/base",
            "top": null,
            "grid_column": null,
            "overflow_y": null,
            "overflow_x": null,
            "grid_auto_flow": null,
            "grid_area": null,
            "grid_template_columns": null,
            "flex": null,
            "_model_name": "LayoutModel",
            "justify_items": null,
            "grid_row": null,
            "max_height": null,
            "align_content": null,
            "visibility": null,
            "align_self": null,
            "height": null,
            "min_height": null,
            "padding": null,
            "grid_auto_rows": null,
            "grid_gap": null,
            "max_width": null,
            "order": null,
            "_view_module_version": "1.2.0",
            "grid_template_areas": null,
            "object_position": null,
            "object_fit": null,
            "grid_auto_columns": null,
            "margin": null,
            "display": null,
            "left": null
          }
        },
        "c197ff639c8e4635bd23cb062ee461f0": {
          "model_module": "@jupyter-widgets/controls",
          "model_name": "FloatProgressModel",
          "model_module_version": "1.5.0",
          "state": {
            "_view_name": "ProgressView",
            "style": "IPY_MODEL_c7f6f8862d964e758a6b184b4aa4d4e5",
            "_dom_classes": [],
            "description": "100%",
            "_model_name": "FloatProgressModel",
            "bar_style": "success",
            "max": 100,
            "_view_module": "@jupyter-widgets/controls",
            "_model_module_version": "1.5.0",
            "value": 100,
            "_view_count": null,
            "_view_module_version": "1.5.0",
            "orientation": "horizontal",
            "min": 0,
            "description_tooltip": null,
            "_model_module": "@jupyter-widgets/controls",
            "layout": "IPY_MODEL_bbc56c1e09274a1ea7ea59ce26f85794"
          }
        },
        "d3743d9bc0fc4b048bc1fb518d7636ec": {
          "model_module": "@jupyter-widgets/controls",
          "model_name": "HTMLModel",
          "model_module_version": "1.5.0",
          "state": {
            "_view_name": "HTMLView",
            "style": "IPY_MODEL_0d82a55f6bea48bd853a84d2f90e0ad8",
            "_dom_classes": [],
            "description": "",
            "_model_name": "HTMLModel",
            "placeholder": "​",
            "_view_module": "@jupyter-widgets/controls",
            "_model_module_version": "1.5.0",
            "value": " 100/100 [00:14&lt;00:00,  7.02it/s]",
            "_view_count": null,
            "_view_module_version": "1.5.0",
            "description_tooltip": null,
            "_model_module": "@jupyter-widgets/controls",
            "layout": "IPY_MODEL_0329cc9fc488412f9bc67046808042e2"
          }
        },
        "c7f6f8862d964e758a6b184b4aa4d4e5": {
          "model_module": "@jupyter-widgets/controls",
          "model_name": "ProgressStyleModel",
          "model_module_version": "1.5.0",
          "state": {
            "_view_name": "StyleView",
            "_model_name": "ProgressStyleModel",
            "description_width": "initial",
            "_view_module": "@jupyter-widgets/base",
            "_model_module_version": "1.5.0",
            "_view_count": null,
            "_view_module_version": "1.2.0",
            "bar_color": null,
            "_model_module": "@jupyter-widgets/controls"
          }
        },
        "bbc56c1e09274a1ea7ea59ce26f85794": {
          "model_module": "@jupyter-widgets/base",
          "model_name": "LayoutModel",
          "model_module_version": "1.2.0",
          "state": {
            "_view_name": "LayoutView",
            "grid_template_rows": null,
            "right": null,
            "justify_content": null,
            "_view_module": "@jupyter-widgets/base",
            "overflow": null,
            "_model_module_version": "1.2.0",
            "_view_count": null,
            "flex_flow": null,
            "width": null,
            "min_width": null,
            "border": null,
            "align_items": null,
            "bottom": null,
            "_model_module": "@jupyter-widgets/base",
            "top": null,
            "grid_column": null,
            "overflow_y": null,
            "overflow_x": null,
            "grid_auto_flow": null,
            "grid_area": null,
            "grid_template_columns": null,
            "flex": null,
            "_model_name": "LayoutModel",
            "justify_items": null,
            "grid_row": null,
            "max_height": null,
            "align_content": null,
            "visibility": null,
            "align_self": null,
            "height": null,
            "min_height": null,
            "padding": null,
            "grid_auto_rows": null,
            "grid_gap": null,
            "max_width": null,
            "order": null,
            "_view_module_version": "1.2.0",
            "grid_template_areas": null,
            "object_position": null,
            "object_fit": null,
            "grid_auto_columns": null,
            "margin": null,
            "display": null,
            "left": null
          }
        },
        "0d82a55f6bea48bd853a84d2f90e0ad8": {
          "model_module": "@jupyter-widgets/controls",
          "model_name": "DescriptionStyleModel",
          "model_module_version": "1.5.0",
          "state": {
            "_view_name": "StyleView",
            "_model_name": "DescriptionStyleModel",
            "description_width": "",
            "_view_module": "@jupyter-widgets/base",
            "_model_module_version": "1.5.0",
            "_view_count": null,
            "_view_module_version": "1.2.0",
            "_model_module": "@jupyter-widgets/controls"
          }
        },
        "0329cc9fc488412f9bc67046808042e2": {
          "model_module": "@jupyter-widgets/base",
          "model_name": "LayoutModel",
          "model_module_version": "1.2.0",
          "state": {
            "_view_name": "LayoutView",
            "grid_template_rows": null,
            "right": null,
            "justify_content": null,
            "_view_module": "@jupyter-widgets/base",
            "overflow": null,
            "_model_module_version": "1.2.0",
            "_view_count": null,
            "flex_flow": null,
            "width": null,
            "min_width": null,
            "border": null,
            "align_items": null,
            "bottom": null,
            "_model_module": "@jupyter-widgets/base",
            "top": null,
            "grid_column": null,
            "overflow_y": null,
            "overflow_x": null,
            "grid_auto_flow": null,
            "grid_area": null,
            "grid_template_columns": null,
            "flex": null,
            "_model_name": "LayoutModel",
            "justify_items": null,
            "grid_row": null,
            "max_height": null,
            "align_content": null,
            "visibility": null,
            "align_self": null,
            "height": null,
            "min_height": null,
            "padding": null,
            "grid_auto_rows": null,
            "grid_gap": null,
            "max_width": null,
            "order": null,
            "_view_module_version": "1.2.0",
            "grid_template_areas": null,
            "object_position": null,
            "object_fit": null,
            "grid_auto_columns": null,
            "margin": null,
            "display": null,
            "left": null
          }
        },
        "30fe8ef9060f45ce97502c0190a73809": {
          "model_module": "@jupyter-widgets/controls",
          "model_name": "HBoxModel",
          "model_module_version": "1.5.0",
          "state": {
            "_view_name": "HBoxView",
            "_dom_classes": [],
            "_model_name": "HBoxModel",
            "_view_module": "@jupyter-widgets/controls",
            "_model_module_version": "1.5.0",
            "_view_count": null,
            "_view_module_version": "1.5.0",
            "box_style": "",
            "layout": "IPY_MODEL_ac150026bfe440bf8509611c593b507a",
            "_model_module": "@jupyter-widgets/controls",
            "children": [
              "IPY_MODEL_ab17acd60de444069079a0e459f027c1",
              "IPY_MODEL_fc6444cf67674588bd46fb881e1686a8"
            ]
          }
        },
        "ac150026bfe440bf8509611c593b507a": {
          "model_module": "@jupyter-widgets/base",
          "model_name": "LayoutModel",
          "model_module_version": "1.2.0",
          "state": {
            "_view_name": "LayoutView",
            "grid_template_rows": null,
            "right": null,
            "justify_content": null,
            "_view_module": "@jupyter-widgets/base",
            "overflow": null,
            "_model_module_version": "1.2.0",
            "_view_count": null,
            "flex_flow": null,
            "width": null,
            "min_width": null,
            "border": null,
            "align_items": null,
            "bottom": null,
            "_model_module": "@jupyter-widgets/base",
            "top": null,
            "grid_column": null,
            "overflow_y": null,
            "overflow_x": null,
            "grid_auto_flow": null,
            "grid_area": null,
            "grid_template_columns": null,
            "flex": null,
            "_model_name": "LayoutModel",
            "justify_items": null,
            "grid_row": null,
            "max_height": null,
            "align_content": null,
            "visibility": null,
            "align_self": null,
            "height": null,
            "min_height": null,
            "padding": null,
            "grid_auto_rows": null,
            "grid_gap": null,
            "max_width": null,
            "order": null,
            "_view_module_version": "1.2.0",
            "grid_template_areas": null,
            "object_position": null,
            "object_fit": null,
            "grid_auto_columns": null,
            "margin": null,
            "display": null,
            "left": null
          }
        },
        "ab17acd60de444069079a0e459f027c1": {
          "model_module": "@jupyter-widgets/controls",
          "model_name": "FloatProgressModel",
          "model_module_version": "1.5.0",
          "state": {
            "_view_name": "ProgressView",
            "style": "IPY_MODEL_d371235e262548668b02c050a1a778b2",
            "_dom_classes": [],
            "description": "100%",
            "_model_name": "FloatProgressModel",
            "bar_style": "success",
            "max": 100,
            "_view_module": "@jupyter-widgets/controls",
            "_model_module_version": "1.5.0",
            "value": 100,
            "_view_count": null,
            "_view_module_version": "1.5.0",
            "orientation": "horizontal",
            "min": 0,
            "description_tooltip": null,
            "_model_module": "@jupyter-widgets/controls",
            "layout": "IPY_MODEL_481ed4b2ed15496e82e53716494ae0c4"
          }
        },
        "fc6444cf67674588bd46fb881e1686a8": {
          "model_module": "@jupyter-widgets/controls",
          "model_name": "HTMLModel",
          "model_module_version": "1.5.0",
          "state": {
            "_view_name": "HTMLView",
            "style": "IPY_MODEL_fe7c71956a90401188fb137910794bfa",
            "_dom_classes": [],
            "description": "",
            "_model_name": "HTMLModel",
            "placeholder": "​",
            "_view_module": "@jupyter-widgets/controls",
            "_model_module_version": "1.5.0",
            "value": " 100/100 [10:20&lt;00:00,  6.21s/it]",
            "_view_count": null,
            "_view_module_version": "1.5.0",
            "description_tooltip": null,
            "_model_module": "@jupyter-widgets/controls",
            "layout": "IPY_MODEL_54afeff86bc147e4b1dde198adabb586"
          }
        },
        "d371235e262548668b02c050a1a778b2": {
          "model_module": "@jupyter-widgets/controls",
          "model_name": "ProgressStyleModel",
          "model_module_version": "1.5.0",
          "state": {
            "_view_name": "StyleView",
            "_model_name": "ProgressStyleModel",
            "description_width": "initial",
            "_view_module": "@jupyter-widgets/base",
            "_model_module_version": "1.5.0",
            "_view_count": null,
            "_view_module_version": "1.2.0",
            "bar_color": null,
            "_model_module": "@jupyter-widgets/controls"
          }
        },
        "481ed4b2ed15496e82e53716494ae0c4": {
          "model_module": "@jupyter-widgets/base",
          "model_name": "LayoutModel",
          "model_module_version": "1.2.0",
          "state": {
            "_view_name": "LayoutView",
            "grid_template_rows": null,
            "right": null,
            "justify_content": null,
            "_view_module": "@jupyter-widgets/base",
            "overflow": null,
            "_model_module_version": "1.2.0",
            "_view_count": null,
            "flex_flow": null,
            "width": null,
            "min_width": null,
            "border": null,
            "align_items": null,
            "bottom": null,
            "_model_module": "@jupyter-widgets/base",
            "top": null,
            "grid_column": null,
            "overflow_y": null,
            "overflow_x": null,
            "grid_auto_flow": null,
            "grid_area": null,
            "grid_template_columns": null,
            "flex": null,
            "_model_name": "LayoutModel",
            "justify_items": null,
            "grid_row": null,
            "max_height": null,
            "align_content": null,
            "visibility": null,
            "align_self": null,
            "height": null,
            "min_height": null,
            "padding": null,
            "grid_auto_rows": null,
            "grid_gap": null,
            "max_width": null,
            "order": null,
            "_view_module_version": "1.2.0",
            "grid_template_areas": null,
            "object_position": null,
            "object_fit": null,
            "grid_auto_columns": null,
            "margin": null,
            "display": null,
            "left": null
          }
        },
        "fe7c71956a90401188fb137910794bfa": {
          "model_module": "@jupyter-widgets/controls",
          "model_name": "DescriptionStyleModel",
          "model_module_version": "1.5.0",
          "state": {
            "_view_name": "StyleView",
            "_model_name": "DescriptionStyleModel",
            "description_width": "",
            "_view_module": "@jupyter-widgets/base",
            "_model_module_version": "1.5.0",
            "_view_count": null,
            "_view_module_version": "1.2.0",
            "_model_module": "@jupyter-widgets/controls"
          }
        },
        "54afeff86bc147e4b1dde198adabb586": {
          "model_module": "@jupyter-widgets/base",
          "model_name": "LayoutModel",
          "model_module_version": "1.2.0",
          "state": {
            "_view_name": "LayoutView",
            "grid_template_rows": null,
            "right": null,
            "justify_content": null,
            "_view_module": "@jupyter-widgets/base",
            "overflow": null,
            "_model_module_version": "1.2.0",
            "_view_count": null,
            "flex_flow": null,
            "width": null,
            "min_width": null,
            "border": null,
            "align_items": null,
            "bottom": null,
            "_model_module": "@jupyter-widgets/base",
            "top": null,
            "grid_column": null,
            "overflow_y": null,
            "overflow_x": null,
            "grid_auto_flow": null,
            "grid_area": null,
            "grid_template_columns": null,
            "flex": null,
            "_model_name": "LayoutModel",
            "justify_items": null,
            "grid_row": null,
            "max_height": null,
            "align_content": null,
            "visibility": null,
            "align_self": null,
            "height": null,
            "min_height": null,
            "padding": null,
            "grid_auto_rows": null,
            "grid_gap": null,
            "max_width": null,
            "order": null,
            "_view_module_version": "1.2.0",
            "grid_template_areas": null,
            "object_position": null,
            "object_fit": null,
            "grid_auto_columns": null,
            "margin": null,
            "display": null,
            "left": null
          }
        },
        "74c10d1421c6453caa461702a3e6ed1f": {
          "model_module": "@jupyter-widgets/controls",
          "model_name": "HBoxModel",
          "model_module_version": "1.5.0",
          "state": {
            "_view_name": "HBoxView",
            "_dom_classes": [],
            "_model_name": "HBoxModel",
            "_view_module": "@jupyter-widgets/controls",
            "_model_module_version": "1.5.0",
            "_view_count": null,
            "_view_module_version": "1.5.0",
            "box_style": "",
            "layout": "IPY_MODEL_991b49638e084b8388fd3cc3ad382e62",
            "_model_module": "@jupyter-widgets/controls",
            "children": [
              "IPY_MODEL_948e0f84554e4ea19febe1f3983438f5",
              "IPY_MODEL_25b27e5a8e6841f69616d29e30acd820"
            ]
          }
        },
        "991b49638e084b8388fd3cc3ad382e62": {
          "model_module": "@jupyter-widgets/base",
          "model_name": "LayoutModel",
          "model_module_version": "1.2.0",
          "state": {
            "_view_name": "LayoutView",
            "grid_template_rows": null,
            "right": null,
            "justify_content": null,
            "_view_module": "@jupyter-widgets/base",
            "overflow": null,
            "_model_module_version": "1.2.0",
            "_view_count": null,
            "flex_flow": null,
            "width": null,
            "min_width": null,
            "border": null,
            "align_items": null,
            "bottom": null,
            "_model_module": "@jupyter-widgets/base",
            "top": null,
            "grid_column": null,
            "overflow_y": null,
            "overflow_x": null,
            "grid_auto_flow": null,
            "grid_area": null,
            "grid_template_columns": null,
            "flex": null,
            "_model_name": "LayoutModel",
            "justify_items": null,
            "grid_row": null,
            "max_height": null,
            "align_content": null,
            "visibility": null,
            "align_self": null,
            "height": null,
            "min_height": null,
            "padding": null,
            "grid_auto_rows": null,
            "grid_gap": null,
            "max_width": null,
            "order": null,
            "_view_module_version": "1.2.0",
            "grid_template_areas": null,
            "object_position": null,
            "object_fit": null,
            "grid_auto_columns": null,
            "margin": null,
            "display": null,
            "left": null
          }
        },
        "948e0f84554e4ea19febe1f3983438f5": {
          "model_module": "@jupyter-widgets/controls",
          "model_name": "FloatProgressModel",
          "model_module_version": "1.5.0",
          "state": {
            "_view_name": "ProgressView",
            "style": "IPY_MODEL_a71694f5b9d249eda20dcb96023ccc15",
            "_dom_classes": [],
            "description": "100%",
            "_model_name": "FloatProgressModel",
            "bar_style": "success",
            "max": 8610,
            "_view_module": "@jupyter-widgets/controls",
            "_model_module_version": "1.5.0",
            "value": 8610,
            "_view_count": null,
            "_view_module_version": "1.5.0",
            "orientation": "horizontal",
            "min": 0,
            "description_tooltip": null,
            "_model_module": "@jupyter-widgets/controls",
            "layout": "IPY_MODEL_a95a41066841433fbc1bedbf2fd4cee4"
          }
        },
        "25b27e5a8e6841f69616d29e30acd820": {
          "model_module": "@jupyter-widgets/controls",
          "model_name": "HTMLModel",
          "model_module_version": "1.5.0",
          "state": {
            "_view_name": "HTMLView",
            "style": "IPY_MODEL_429e2cf45d074b98b290c424823654d2",
            "_dom_classes": [],
            "description": "",
            "_model_name": "HTMLModel",
            "placeholder": "​",
            "_view_module": "@jupyter-widgets/controls",
            "_model_module_version": "1.5.0",
            "value": " 8610/8610 [08:56&lt;00:00, 16.06it/s]",
            "_view_count": null,
            "_view_module_version": "1.5.0",
            "description_tooltip": null,
            "_model_module": "@jupyter-widgets/controls",
            "layout": "IPY_MODEL_c42818551c8d4fe28a41f85e64310091"
          }
        },
        "a71694f5b9d249eda20dcb96023ccc15": {
          "model_module": "@jupyter-widgets/controls",
          "model_name": "ProgressStyleModel",
          "model_module_version": "1.5.0",
          "state": {
            "_view_name": "StyleView",
            "_model_name": "ProgressStyleModel",
            "description_width": "initial",
            "_view_module": "@jupyter-widgets/base",
            "_model_module_version": "1.5.0",
            "_view_count": null,
            "_view_module_version": "1.2.0",
            "bar_color": null,
            "_model_module": "@jupyter-widgets/controls"
          }
        },
        "a95a41066841433fbc1bedbf2fd4cee4": {
          "model_module": "@jupyter-widgets/base",
          "model_name": "LayoutModel",
          "model_module_version": "1.2.0",
          "state": {
            "_view_name": "LayoutView",
            "grid_template_rows": null,
            "right": null,
            "justify_content": null,
            "_view_module": "@jupyter-widgets/base",
            "overflow": null,
            "_model_module_version": "1.2.0",
            "_view_count": null,
            "flex_flow": null,
            "width": null,
            "min_width": null,
            "border": null,
            "align_items": null,
            "bottom": null,
            "_model_module": "@jupyter-widgets/base",
            "top": null,
            "grid_column": null,
            "overflow_y": null,
            "overflow_x": null,
            "grid_auto_flow": null,
            "grid_area": null,
            "grid_template_columns": null,
            "flex": null,
            "_model_name": "LayoutModel",
            "justify_items": null,
            "grid_row": null,
            "max_height": null,
            "align_content": null,
            "visibility": null,
            "align_self": null,
            "height": null,
            "min_height": null,
            "padding": null,
            "grid_auto_rows": null,
            "grid_gap": null,
            "max_width": null,
            "order": null,
            "_view_module_version": "1.2.0",
            "grid_template_areas": null,
            "object_position": null,
            "object_fit": null,
            "grid_auto_columns": null,
            "margin": null,
            "display": null,
            "left": null
          }
        },
        "429e2cf45d074b98b290c424823654d2": {
          "model_module": "@jupyter-widgets/controls",
          "model_name": "DescriptionStyleModel",
          "model_module_version": "1.5.0",
          "state": {
            "_view_name": "StyleView",
            "_model_name": "DescriptionStyleModel",
            "description_width": "",
            "_view_module": "@jupyter-widgets/base",
            "_model_module_version": "1.5.0",
            "_view_count": null,
            "_view_module_version": "1.2.0",
            "_model_module": "@jupyter-widgets/controls"
          }
        },
        "c42818551c8d4fe28a41f85e64310091": {
          "model_module": "@jupyter-widgets/base",
          "model_name": "LayoutModel",
          "model_module_version": "1.2.0",
          "state": {
            "_view_name": "LayoutView",
            "grid_template_rows": null,
            "right": null,
            "justify_content": null,
            "_view_module": "@jupyter-widgets/base",
            "overflow": null,
            "_model_module_version": "1.2.0",
            "_view_count": null,
            "flex_flow": null,
            "width": null,
            "min_width": null,
            "border": null,
            "align_items": null,
            "bottom": null,
            "_model_module": "@jupyter-widgets/base",
            "top": null,
            "grid_column": null,
            "overflow_y": null,
            "overflow_x": null,
            "grid_auto_flow": null,
            "grid_area": null,
            "grid_template_columns": null,
            "flex": null,
            "_model_name": "LayoutModel",
            "justify_items": null,
            "grid_row": null,
            "max_height": null,
            "align_content": null,
            "visibility": null,
            "align_self": null,
            "height": null,
            "min_height": null,
            "padding": null,
            "grid_auto_rows": null,
            "grid_gap": null,
            "max_width": null,
            "order": null,
            "_view_module_version": "1.2.0",
            "grid_template_areas": null,
            "object_position": null,
            "object_fit": null,
            "grid_auto_columns": null,
            "margin": null,
            "display": null,
            "left": null
          }
        },
        "4386e75d5ba846899b32ae5423abf50f": {
          "model_module": "@jupyter-widgets/controls",
          "model_name": "HBoxModel",
          "model_module_version": "1.5.0",
          "state": {
            "_view_name": "HBoxView",
            "_dom_classes": [],
            "_model_name": "HBoxModel",
            "_view_module": "@jupyter-widgets/controls",
            "_model_module_version": "1.5.0",
            "_view_count": null,
            "_view_module_version": "1.5.0",
            "box_style": "",
            "layout": "IPY_MODEL_69b53507e95e421cbf18618cb96c2f16",
            "_model_module": "@jupyter-widgets/controls",
            "children": [
              "IPY_MODEL_deaa8e74ecc94f5e9e27fdc6eee6e03d",
              "IPY_MODEL_aba0d0954521463db0d3929020e76d53"
            ]
          }
        },
        "69b53507e95e421cbf18618cb96c2f16": {
          "model_module": "@jupyter-widgets/base",
          "model_name": "LayoutModel",
          "model_module_version": "1.2.0",
          "state": {
            "_view_name": "LayoutView",
            "grid_template_rows": null,
            "right": null,
            "justify_content": null,
            "_view_module": "@jupyter-widgets/base",
            "overflow": null,
            "_model_module_version": "1.2.0",
            "_view_count": null,
            "flex_flow": null,
            "width": null,
            "min_width": null,
            "border": null,
            "align_items": null,
            "bottom": null,
            "_model_module": "@jupyter-widgets/base",
            "top": null,
            "grid_column": null,
            "overflow_y": null,
            "overflow_x": null,
            "grid_auto_flow": null,
            "grid_area": null,
            "grid_template_columns": null,
            "flex": null,
            "_model_name": "LayoutModel",
            "justify_items": null,
            "grid_row": null,
            "max_height": null,
            "align_content": null,
            "visibility": null,
            "align_self": null,
            "height": null,
            "min_height": null,
            "padding": null,
            "grid_auto_rows": null,
            "grid_gap": null,
            "max_width": null,
            "order": null,
            "_view_module_version": "1.2.0",
            "grid_template_areas": null,
            "object_position": null,
            "object_fit": null,
            "grid_auto_columns": null,
            "margin": null,
            "display": null,
            "left": null
          }
        },
        "deaa8e74ecc94f5e9e27fdc6eee6e03d": {
          "model_module": "@jupyter-widgets/controls",
          "model_name": "FloatProgressModel",
          "model_module_version": "1.5.0",
          "state": {
            "_view_name": "ProgressView",
            "style": "IPY_MODEL_047354df95124e18a2b24e58e25f5fd1",
            "_dom_classes": [],
            "description": "100%",
            "_model_name": "FloatProgressModel",
            "bar_style": "success",
            "max": 1520,
            "_view_module": "@jupyter-widgets/controls",
            "_model_module_version": "1.5.0",
            "value": 1520,
            "_view_count": null,
            "_view_module_version": "1.5.0",
            "orientation": "horizontal",
            "min": 0,
            "description_tooltip": null,
            "_model_module": "@jupyter-widgets/controls",
            "layout": "IPY_MODEL_5fb5cfb1ee01438185710b7806d80c39"
          }
        },
        "aba0d0954521463db0d3929020e76d53": {
          "model_module": "@jupyter-widgets/controls",
          "model_name": "HTMLModel",
          "model_module_version": "1.5.0",
          "state": {
            "_view_name": "HTMLView",
            "style": "IPY_MODEL_949f05722ed74dfe9aecbb386c9b585b",
            "_dom_classes": [],
            "description": "",
            "_model_name": "HTMLModel",
            "placeholder": "​",
            "_view_module": "@jupyter-widgets/controls",
            "_model_module_version": "1.5.0",
            "value": " 1520/1520 [02:28&lt;00:00, 10.25it/s]",
            "_view_count": null,
            "_view_module_version": "1.5.0",
            "description_tooltip": null,
            "_model_module": "@jupyter-widgets/controls",
            "layout": "IPY_MODEL_314bb7fda86b4187bf4eceb0af856a18"
          }
        },
        "047354df95124e18a2b24e58e25f5fd1": {
          "model_module": "@jupyter-widgets/controls",
          "model_name": "ProgressStyleModel",
          "model_module_version": "1.5.0",
          "state": {
            "_view_name": "StyleView",
            "_model_name": "ProgressStyleModel",
            "description_width": "initial",
            "_view_module": "@jupyter-widgets/base",
            "_model_module_version": "1.5.0",
            "_view_count": null,
            "_view_module_version": "1.2.0",
            "bar_color": null,
            "_model_module": "@jupyter-widgets/controls"
          }
        },
        "5fb5cfb1ee01438185710b7806d80c39": {
          "model_module": "@jupyter-widgets/base",
          "model_name": "LayoutModel",
          "model_module_version": "1.2.0",
          "state": {
            "_view_name": "LayoutView",
            "grid_template_rows": null,
            "right": null,
            "justify_content": null,
            "_view_module": "@jupyter-widgets/base",
            "overflow": null,
            "_model_module_version": "1.2.0",
            "_view_count": null,
            "flex_flow": null,
            "width": null,
            "min_width": null,
            "border": null,
            "align_items": null,
            "bottom": null,
            "_model_module": "@jupyter-widgets/base",
            "top": null,
            "grid_column": null,
            "overflow_y": null,
            "overflow_x": null,
            "grid_auto_flow": null,
            "grid_area": null,
            "grid_template_columns": null,
            "flex": null,
            "_model_name": "LayoutModel",
            "justify_items": null,
            "grid_row": null,
            "max_height": null,
            "align_content": null,
            "visibility": null,
            "align_self": null,
            "height": null,
            "min_height": null,
            "padding": null,
            "grid_auto_rows": null,
            "grid_gap": null,
            "max_width": null,
            "order": null,
            "_view_module_version": "1.2.0",
            "grid_template_areas": null,
            "object_position": null,
            "object_fit": null,
            "grid_auto_columns": null,
            "margin": null,
            "display": null,
            "left": null
          }
        },
        "949f05722ed74dfe9aecbb386c9b585b": {
          "model_module": "@jupyter-widgets/controls",
          "model_name": "DescriptionStyleModel",
          "model_module_version": "1.5.0",
          "state": {
            "_view_name": "StyleView",
            "_model_name": "DescriptionStyleModel",
            "description_width": "",
            "_view_module": "@jupyter-widgets/base",
            "_model_module_version": "1.5.0",
            "_view_count": null,
            "_view_module_version": "1.2.0",
            "_model_module": "@jupyter-widgets/controls"
          }
        },
        "314bb7fda86b4187bf4eceb0af856a18": {
          "model_module": "@jupyter-widgets/base",
          "model_name": "LayoutModel",
          "model_module_version": "1.2.0",
          "state": {
            "_view_name": "LayoutView",
            "grid_template_rows": null,
            "right": null,
            "justify_content": null,
            "_view_module": "@jupyter-widgets/base",
            "overflow": null,
            "_model_module_version": "1.2.0",
            "_view_count": null,
            "flex_flow": null,
            "width": null,
            "min_width": null,
            "border": null,
            "align_items": null,
            "bottom": null,
            "_model_module": "@jupyter-widgets/base",
            "top": null,
            "grid_column": null,
            "overflow_y": null,
            "overflow_x": null,
            "grid_auto_flow": null,
            "grid_area": null,
            "grid_template_columns": null,
            "flex": null,
            "_model_name": "LayoutModel",
            "justify_items": null,
            "grid_row": null,
            "max_height": null,
            "align_content": null,
            "visibility": null,
            "align_self": null,
            "height": null,
            "min_height": null,
            "padding": null,
            "grid_auto_rows": null,
            "grid_gap": null,
            "max_width": null,
            "order": null,
            "_view_module_version": "1.2.0",
            "grid_template_areas": null,
            "object_position": null,
            "object_fit": null,
            "grid_auto_columns": null,
            "margin": null,
            "display": null,
            "left": null
          }
        }
      }
    }
  },
  "cells": [
    {
      "cell_type": "markdown",
      "metadata": {
        "id": "view-in-github",
        "colab_type": "text"
      },
      "source": [
        "<a href=\"https://colab.research.google.com/github/Sougotadayglo/Self-supervised_Topic_classification/blob/main/Topic_classification.ipynb\" target=\"_parent\"><img src=\"https://colab.research.google.com/assets/colab-badge.svg\" alt=\"Open In Colab\"/></a>"
      ]
    },
    {
      "cell_type": "code",
      "metadata": {
        "id": "Dcfxbo6V-ZH7",
        "colab": {
          "base_uri": "https://localhost:8080/"
        },
        "outputId": "b753be73-1283-4adf-eabf-51abfa10dc00"
      },
      "source": [
        "from google.colab import drive\n",
        "drive.mount('/content/gdrive', force_remount=True)"
      ],
      "execution_count": null,
      "outputs": [
        {
          "output_type": "stream",
          "text": [
            "Mounted at /content/gdrive\n"
          ],
          "name": "stdout"
        }
      ]
    },
    {
      "cell_type": "markdown",
      "metadata": {
        "id": "CFYnQ4NFsv4u"
      },
      "source": [
        "use tensorflow version 1.15 while using the bert-serving-client and then upgrade the version"
      ]
    },
    {
      "cell_type": "code",
      "metadata": {
        "colab": {
          "base_uri": "https://localhost:8080/"
        },
        "id": "02PVtYAibYt0",
        "outputId": "c422aff1-e10d-46a8-b258-095b2c782d92"
      },
      "source": [
        "pip install --upgrade tensorflow"
      ],
      "execution_count": null,
      "outputs": [
        {
          "output_type": "stream",
          "text": [
            "Requirement already satisfied: tensorflow in /usr/local/lib/python3.7/dist-packages (1.15.0)\n",
            "Collecting tensorflow\n",
            "  Using cached tensorflow-2.5.0-cp37-cp37m-manylinux2010_x86_64.whl (454.3 MB)\n",
            "Requirement already satisfied: numpy~=1.19.2 in /usr/local/lib/python3.7/dist-packages (from tensorflow) (1.19.5)\n",
            "Requirement already satisfied: google-pasta~=0.2 in /usr/local/lib/python3.7/dist-packages (from tensorflow) (0.2.0)\n",
            "Requirement already satisfied: keras-nightly~=2.5.0.dev in /usr/local/lib/python3.7/dist-packages (from tensorflow) (2.5.0.dev2021032900)\n",
            "Requirement already satisfied: flatbuffers~=1.12.0 in /usr/local/lib/python3.7/dist-packages (from tensorflow) (1.12)\n",
            "Requirement already satisfied: h5py~=3.1.0 in /usr/local/lib/python3.7/dist-packages (from tensorflow) (3.1.0)\n",
            "Requirement already satisfied: typing-extensions~=3.7.4 in /usr/local/lib/python3.7/dist-packages (from tensorflow) (3.7.4.3)\n",
            "Requirement already satisfied: astunparse~=1.6.3 in /usr/local/lib/python3.7/dist-packages (from tensorflow) (1.6.3)\n",
            "Requirement already satisfied: wheel~=0.35 in /usr/local/lib/python3.7/dist-packages (from tensorflow) (0.36.2)\n",
            "Requirement already satisfied: absl-py~=0.10 in /usr/local/lib/python3.7/dist-packages (from tensorflow) (0.12.0)\n",
            "Requirement already satisfied: opt-einsum~=3.3.0 in /usr/local/lib/python3.7/dist-packages (from tensorflow) (3.3.0)\n",
            "Requirement already satisfied: grpcio~=1.34.0 in /usr/local/lib/python3.7/dist-packages (from tensorflow) (1.34.1)\n",
            "Requirement already satisfied: termcolor~=1.1.0 in /usr/local/lib/python3.7/dist-packages (from tensorflow) (1.1.0)\n",
            "Requirement already satisfied: six~=1.15.0 in /usr/local/lib/python3.7/dist-packages (from tensorflow) (1.15.0)\n",
            "Requirement already satisfied: wrapt~=1.12.1 in /usr/local/lib/python3.7/dist-packages (from tensorflow) (1.12.1)\n",
            "Collecting tensorboard~=2.5\n",
            "  Using cached tensorboard-2.5.0-py3-none-any.whl (6.0 MB)\n",
            "Requirement already satisfied: keras-preprocessing~=1.1.2 in /usr/local/lib/python3.7/dist-packages (from tensorflow) (1.1.2)\n",
            "Collecting gast==0.4.0\n",
            "  Using cached gast-0.4.0-py3-none-any.whl (9.8 kB)\n",
            "Collecting tensorflow-estimator<2.6.0,>=2.5.0rc0\n",
            "  Using cached tensorflow_estimator-2.5.0-py2.py3-none-any.whl (462 kB)\n",
            "Requirement already satisfied: protobuf>=3.9.2 in /usr/local/lib/python3.7/dist-packages (from tensorflow) (3.17.3)\n",
            "Requirement already satisfied: cached-property in /usr/local/lib/python3.7/dist-packages (from h5py~=3.1.0->tensorflow) (1.5.2)\n",
            "Requirement already satisfied: google-auth<2,>=1.6.3 in /usr/local/lib/python3.7/dist-packages (from tensorboard~=2.5->tensorflow) (1.32.1)\n",
            "Requirement already satisfied: tensorboard-data-server<0.7.0,>=0.6.0 in /usr/local/lib/python3.7/dist-packages (from tensorboard~=2.5->tensorflow) (0.6.1)\n",
            "Requirement already satisfied: werkzeug>=0.11.15 in /usr/local/lib/python3.7/dist-packages (from tensorboard~=2.5->tensorflow) (1.0.1)\n",
            "Requirement already satisfied: tensorboard-plugin-wit>=1.6.0 in /usr/local/lib/python3.7/dist-packages (from tensorboard~=2.5->tensorflow) (1.8.0)\n",
            "Requirement already satisfied: google-auth-oauthlib<0.5,>=0.4.1 in /usr/local/lib/python3.7/dist-packages (from tensorboard~=2.5->tensorflow) (0.4.4)\n",
            "Requirement already satisfied: markdown>=2.6.8 in /usr/local/lib/python3.7/dist-packages (from tensorboard~=2.5->tensorflow) (3.3.4)\n",
            "Requirement already satisfied: setuptools>=41.0.0 in /usr/local/lib/python3.7/dist-packages (from tensorboard~=2.5->tensorflow) (57.2.0)\n",
            "Requirement already satisfied: requests<3,>=2.21.0 in /usr/local/lib/python3.7/dist-packages (from tensorboard~=2.5->tensorflow) (2.23.0)\n",
            "Requirement already satisfied: pyasn1-modules>=0.2.1 in /usr/local/lib/python3.7/dist-packages (from google-auth<2,>=1.6.3->tensorboard~=2.5->tensorflow) (0.2.8)\n",
            "Requirement already satisfied: cachetools<5.0,>=2.0.0 in /usr/local/lib/python3.7/dist-packages (from google-auth<2,>=1.6.3->tensorboard~=2.5->tensorflow) (4.2.2)\n",
            "Requirement already satisfied: rsa<5,>=3.1.4 in /usr/local/lib/python3.7/dist-packages (from google-auth<2,>=1.6.3->tensorboard~=2.5->tensorflow) (4.7.2)\n",
            "Requirement already satisfied: requests-oauthlib>=0.7.0 in /usr/local/lib/python3.7/dist-packages (from google-auth-oauthlib<0.5,>=0.4.1->tensorboard~=2.5->tensorflow) (1.3.0)\n",
            "Requirement already satisfied: importlib-metadata in /usr/local/lib/python3.7/dist-packages (from markdown>=2.6.8->tensorboard~=2.5->tensorflow) (4.6.1)\n",
            "Requirement already satisfied: pyasn1<0.5.0,>=0.4.6 in /usr/local/lib/python3.7/dist-packages (from pyasn1-modules>=0.2.1->google-auth<2,>=1.6.3->tensorboard~=2.5->tensorflow) (0.4.8)\n",
            "Requirement already satisfied: urllib3!=1.25.0,!=1.25.1,<1.26,>=1.21.1 in /usr/local/lib/python3.7/dist-packages (from requests<3,>=2.21.0->tensorboard~=2.5->tensorflow) (1.24.3)\n",
            "Requirement already satisfied: certifi>=2017.4.17 in /usr/local/lib/python3.7/dist-packages (from requests<3,>=2.21.0->tensorboard~=2.5->tensorflow) (2021.5.30)\n",
            "Requirement already satisfied: chardet<4,>=3.0.2 in /usr/local/lib/python3.7/dist-packages (from requests<3,>=2.21.0->tensorboard~=2.5->tensorflow) (3.0.4)\n",
            "Requirement already satisfied: idna<3,>=2.5 in /usr/local/lib/python3.7/dist-packages (from requests<3,>=2.21.0->tensorboard~=2.5->tensorflow) (2.10)\n",
            "Requirement already satisfied: oauthlib>=3.0.0 in /usr/local/lib/python3.7/dist-packages (from requests-oauthlib>=0.7.0->google-auth-oauthlib<0.5,>=0.4.1->tensorboard~=2.5->tensorflow) (3.1.1)\n",
            "Requirement already satisfied: zipp>=0.5 in /usr/local/lib/python3.7/dist-packages (from importlib-metadata->markdown>=2.6.8->tensorboard~=2.5->tensorflow) (3.5.0)\n",
            "Installing collected packages: tensorflow-estimator, tensorboard, gast, tensorflow\n",
            "  Attempting uninstall: tensorflow-estimator\n",
            "    Found existing installation: tensorflow-estimator 1.15.1\n",
            "    Uninstalling tensorflow-estimator-1.15.1:\n",
            "      Successfully uninstalled tensorflow-estimator-1.15.1\n",
            "  Attempting uninstall: tensorboard\n",
            "    Found existing installation: tensorboard 1.15.0\n",
            "    Uninstalling tensorboard-1.15.0:\n",
            "      Successfully uninstalled tensorboard-1.15.0\n",
            "  Attempting uninstall: gast\n",
            "    Found existing installation: gast 0.2.2\n",
            "    Uninstalling gast-0.2.2:\n",
            "      Successfully uninstalled gast-0.2.2\n",
            "  Attempting uninstall: tensorflow\n",
            "    Found existing installation: tensorflow 1.15.0\n",
            "    Uninstalling tensorflow-1.15.0:\n",
            "      Successfully uninstalled tensorflow-1.15.0\n",
            "Successfully installed gast-0.4.0 tensorboard-2.5.0 tensorflow-2.5.0 tensorflow-estimator-2.5.0\n"
          ],
          "name": "stdout"
        }
      ]
    },
    {
      "cell_type": "code",
      "metadata": {
        "id": "1SqpFTcB-8xq"
      },
      "source": [
        "# import all the modules required for executing the program\n",
        "\n",
        "import pandas as pd\n",
        "from pprint import pprint\n",
        "import re\n",
        "import numpy as np\n",
        "from tqdm.notebook import tqdm\n",
        "import pickle\n",
        "import matplotlib.pyplot as plt\n",
        "\n",
        "from sklearn.model_selection import train_test_split\n",
        "from sklearn import preprocessing\n",
        "from sklearn.linear_model import LogisticRegression\n",
        "from sklearn.metrics import accuracy_score\n",
        "from sklearn.multioutput import ClassifierChain\n",
        "from sklearn.naive_bayes import GaussianNB\n",
        "from sklearn.svm import LinearSVC\n",
        "\n",
        "import gensim\n",
        "from gensim.utils import simple_preprocess\n",
        "\n",
        "import spacy\n",
        "\n",
        "from keras.models import Sequential\n",
        "from keras import layers\n",
        "from keras import callbacks\n",
        "\n",
        "import nltk\n",
        "from nltk.corpus import stopwords\n"
      ],
      "execution_count": null,
      "outputs": []
    },
    {
      "cell_type": "code",
      "metadata": {
        "id": "Bb0fUMsk_M9e"
      },
      "source": [
        "# load the LDA model that has been saved earlier in Topic Modeling\n",
        "lda_model = gensim.models.ldamodel.LdaModel.load('/content/gdrive/MyDrive/Colab Notebooks/TopicModelingAndClassification/lda_model.model')"
      ],
      "execution_count": null,
      "outputs": []
    },
    {
      "cell_type": "code",
      "metadata": {
        "id": "gsoYncI8_cgU"
      },
      "source": [
        "# annotating the topics based on the topic clusters that we have got from our LDA model that\n",
        "# best represent the topic description. Creating a dictionary where the key represent the\n",
        "# topic number and the value represent the actual topic.\n",
        "\n",
        "topic_from_topic_cluster = {}\n",
        "\n",
        "topic_from_topic_cluster[0]  = 'wait time'\n",
        "topic_from_topic_cluster[1]  = 'delivery punctuality'\n",
        "topic_from_topic_cluster[2]  = 'discount'\n",
        "topic_from_topic_cluster[3]  = 'garage service'\n",
        "topic_from_topic_cluster[4]  = 'change of date, booking confusion'\n",
        "topic_from_topic_cluster[5]  = 'garage service'\n",
        "topic_from_topic_cluster[6]  = 'value for money'\n",
        "topic_from_topic_cluster[7]  = 'tire quality'\n",
        "topic_from_topic_cluster[8]  = 'garage service'\n",
        "topic_from_topic_cluster[9]  = 'ease of booking'\n",
        "topic_from_topic_cluster[10] = 'mobile fitter'\n",
        "topic_from_topic_cluster[11] = 'length of fitting'\n",
        "topic_from_topic_cluster[12] = 'value for money'\n",
        "topic_from_topic_cluster[13] = 'tyre quality'\n",
        "topic_from_topic_cluster[14] = 'ease of booking'"
      ],
      "execution_count": null,
      "outputs": []
    },
    {
      "cell_type": "code",
      "metadata": {
        "id": "4OXFIcNY_n_d"
      },
      "source": [
        "# loading the dataset saved after modeling the topics. This dataset will be used as the training and testing set for classification\n",
        "# use dataset : \"annotated_dataset_multi_label_dl.csv\" for multi-label\n",
        "# use dataset : \"annotated_dataset_multi_class.csv\" for multi-class\n",
        "\n",
        "annotated_df = pd.read_csv('/content/gdrive/MyDrive/Colab Notebooks/TopicModelingAndClassification/annotated_dataset_multi_label.csv')"
      ],
      "execution_count": null,
      "outputs": []
    },
    {
      "cell_type": "code",
      "metadata": {
        "colab": {
          "base_uri": "https://localhost:8080/",
          "height": 254
        },
        "id": "U1FAlNGu_3dR",
        "outputId": "2914147c-d46d-495f-c319-e2260361369f"
      },
      "source": [
        "pprint(annotated_df['Text'][0])\n",
        "annotated_df.head()"
      ],
      "execution_count": null,
      "outputs": [
        {
          "output_type": "stream",
          "text": [
            "('Tires where delivered to the garage of my choice,the garage notified me when '\n",
            " 'they had been delivered. A day and time was arranged with the garage and I '\n",
            " 'went and had them fitted,a Hassel free experience.')\n"
          ],
          "name": "stdout"
        },
        {
          "output_type": "execute_result",
          "data": {
            "text/html": [
              "<div>\n",
              "<style scoped>\n",
              "    .dataframe tbody tr th:only-of-type {\n",
              "        vertical-align: middle;\n",
              "    }\n",
              "\n",
              "    .dataframe tbody tr th {\n",
              "        vertical-align: top;\n",
              "    }\n",
              "\n",
              "    .dataframe thead th {\n",
              "        text-align: right;\n",
              "    }\n",
              "</style>\n",
              "<table border=\"1\" class=\"dataframe\">\n",
              "  <thead>\n",
              "    <tr style=\"text-align: right;\">\n",
              "      <th></th>\n",
              "      <th>Document_No</th>\n",
              "      <th>Label1</th>\n",
              "      <th>Label2</th>\n",
              "      <th>Label3</th>\n",
              "      <th>Label4</th>\n",
              "      <th>Label5</th>\n",
              "      <th>Label6</th>\n",
              "      <th>Label7</th>\n",
              "      <th>Label8</th>\n",
              "      <th>Label9</th>\n",
              "      <th>Label10</th>\n",
              "      <th>Label11</th>\n",
              "      <th>Label12</th>\n",
              "      <th>Label13</th>\n",
              "      <th>Label14</th>\n",
              "      <th>Label15</th>\n",
              "      <th>Text</th>\n",
              "    </tr>\n",
              "  </thead>\n",
              "  <tbody>\n",
              "    <tr>\n",
              "      <th>0</th>\n",
              "      <td>0</td>\n",
              "      <td>0</td>\n",
              "      <td>1</td>\n",
              "      <td>0</td>\n",
              "      <td>1</td>\n",
              "      <td>0</td>\n",
              "      <td>0</td>\n",
              "      <td>0</td>\n",
              "      <td>0</td>\n",
              "      <td>0</td>\n",
              "      <td>0</td>\n",
              "      <td>0</td>\n",
              "      <td>0</td>\n",
              "      <td>0</td>\n",
              "      <td>0</td>\n",
              "      <td>0</td>\n",
              "      <td>Tires where delivered to the garage of my choi...</td>\n",
              "    </tr>\n",
              "    <tr>\n",
              "      <th>1</th>\n",
              "      <td>1</td>\n",
              "      <td>0</td>\n",
              "      <td>0</td>\n",
              "      <td>0</td>\n",
              "      <td>0</td>\n",
              "      <td>0</td>\n",
              "      <td>0</td>\n",
              "      <td>0</td>\n",
              "      <td>0</td>\n",
              "      <td>0</td>\n",
              "      <td>0</td>\n",
              "      <td>0</td>\n",
              "      <td>0</td>\n",
              "      <td>1</td>\n",
              "      <td>0</td>\n",
              "      <td>0</td>\n",
              "      <td>Easy Tyre Selection Process, Competitive Prici...</td>\n",
              "    </tr>\n",
              "    <tr>\n",
              "      <th>2</th>\n",
              "      <td>2</td>\n",
              "      <td>0</td>\n",
              "      <td>0</td>\n",
              "      <td>0</td>\n",
              "      <td>0</td>\n",
              "      <td>0</td>\n",
              "      <td>0</td>\n",
              "      <td>1</td>\n",
              "      <td>0</td>\n",
              "      <td>0</td>\n",
              "      <td>0</td>\n",
              "      <td>0</td>\n",
              "      <td>0</td>\n",
              "      <td>1</td>\n",
              "      <td>0</td>\n",
              "      <td>0</td>\n",
              "      <td>Very easy to use and good value for money.</td>\n",
              "    </tr>\n",
              "    <tr>\n",
              "      <th>3</th>\n",
              "      <td>3</td>\n",
              "      <td>0</td>\n",
              "      <td>0</td>\n",
              "      <td>0</td>\n",
              "      <td>1</td>\n",
              "      <td>0</td>\n",
              "      <td>0</td>\n",
              "      <td>0</td>\n",
              "      <td>0</td>\n",
              "      <td>0</td>\n",
              "      <td>1</td>\n",
              "      <td>0</td>\n",
              "      <td>0</td>\n",
              "      <td>0</td>\n",
              "      <td>0</td>\n",
              "      <td>0</td>\n",
              "      <td>Really easy and convenient to arrange</td>\n",
              "    </tr>\n",
              "    <tr>\n",
              "      <th>4</th>\n",
              "      <td>4</td>\n",
              "      <td>0</td>\n",
              "      <td>0</td>\n",
              "      <td>0</td>\n",
              "      <td>1</td>\n",
              "      <td>0</td>\n",
              "      <td>0</td>\n",
              "      <td>0</td>\n",
              "      <td>0</td>\n",
              "      <td>0</td>\n",
              "      <td>0</td>\n",
              "      <td>0</td>\n",
              "      <td>0</td>\n",
              "      <td>1</td>\n",
              "      <td>0</td>\n",
              "      <td>0</td>\n",
              "      <td>It was so easy to select tyre sizes and arrang...</td>\n",
              "    </tr>\n",
              "  </tbody>\n",
              "</table>\n",
              "</div>"
            ],
            "text/plain": [
              "   Document_No  ...                                               Text\n",
              "0            0  ...  Tires where delivered to the garage of my choi...\n",
              "1            1  ...  Easy Tyre Selection Process, Competitive Prici...\n",
              "2            2  ...         Very easy to use and good value for money.\n",
              "3            3  ...              Really easy and convenient to arrange\n",
              "4            4  ...  It was so easy to select tyre sizes and arrang...\n",
              "\n",
              "[5 rows x 17 columns]"
            ]
          },
          "metadata": {
            "tags": []
          },
          "execution_count": 6
        }
      ]
    },
    {
      "cell_type": "markdown",
      "metadata": {
        "id": "Tw_jaYnYfR4L"
      },
      "source": [
        "# **Pre-processing**\n"
      ]
    },
    {
      "cell_type": "code",
      "metadata": {
        "colab": {
          "base_uri": "https://localhost:8080/",
          "height": 370,
          "referenced_widgets": [
            "c7972eb39a38488f97906222ae4398d9",
            "aeb9be1db5154c52b393820db5e8729a",
            "c197ff639c8e4635bd23cb062ee461f0",
            "d3743d9bc0fc4b048bc1fb518d7636ec",
            "c7f6f8862d964e758a6b184b4aa4d4e5",
            "bbc56c1e09274a1ea7ea59ce26f85794",
            "0d82a55f6bea48bd853a84d2f90e0ad8",
            "0329cc9fc488412f9bc67046808042e2"
          ]
        },
        "id": "-F7xAoe-FvnC",
        "outputId": "5c623666-bf6d-4f1d-b55a-4fcd9200a0df"
      },
      "source": [
        "# Remove stopwords\n",
        "\n",
        "nltk.download('stopwords')\n",
        "stop = stopwords.words('english')\n",
        "\n",
        "for i in tqdm(range(100)):\n",
        "    try:\n",
        "        annotated_df['Text'][i] = ' '.join([word for word in annotated_df['Text'][i].split() if word not in (stop)])\n",
        "    except:\n",
        "        pass\n",
        "\n",
        "annotated_df.head()"
      ],
      "execution_count": null,
      "outputs": [
        {
          "output_type": "stream",
          "text": [
            "[nltk_data] Downloading package stopwords to /root/nltk_data...\n",
            "[nltk_data]   Package stopwords is already up-to-date!\n"
          ],
          "name": "stdout"
        },
        {
          "output_type": "display_data",
          "data": {
            "application/vnd.jupyter.widget-view+json": {
              "model_id": "c7972eb39a38488f97906222ae4398d9",
              "version_minor": 0,
              "version_major": 2
            },
            "text/plain": [
              "HBox(children=(FloatProgress(value=0.0), HTML(value='')))"
            ]
          },
          "metadata": {
            "tags": []
          }
        },
        {
          "output_type": "stream",
          "text": [
            "\n"
          ],
          "name": "stdout"
        },
        {
          "output_type": "stream",
          "text": [
            "/usr/local/lib/python3.7/dist-packages/ipykernel_launcher.py:8: SettingWithCopyWarning: \n",
            "A value is trying to be set on a copy of a slice from a DataFrame\n",
            "\n",
            "See the caveats in the documentation: https://pandas.pydata.org/pandas-docs/stable/user_guide/indexing.html#returning-a-view-versus-a-copy\n",
            "  \n"
          ],
          "name": "stderr"
        },
        {
          "output_type": "execute_result",
          "data": {
            "text/html": [
              "<div>\n",
              "<style scoped>\n",
              "    .dataframe tbody tr th:only-of-type {\n",
              "        vertical-align: middle;\n",
              "    }\n",
              "\n",
              "    .dataframe tbody tr th {\n",
              "        vertical-align: top;\n",
              "    }\n",
              "\n",
              "    .dataframe thead th {\n",
              "        text-align: right;\n",
              "    }\n",
              "</style>\n",
              "<table border=\"1\" class=\"dataframe\">\n",
              "  <thead>\n",
              "    <tr style=\"text-align: right;\">\n",
              "      <th></th>\n",
              "      <th>Document_No</th>\n",
              "      <th>Label1</th>\n",
              "      <th>Label2</th>\n",
              "      <th>Label3</th>\n",
              "      <th>Label4</th>\n",
              "      <th>Label5</th>\n",
              "      <th>Label6</th>\n",
              "      <th>Label7</th>\n",
              "      <th>Label8</th>\n",
              "      <th>Label9</th>\n",
              "      <th>Label10</th>\n",
              "      <th>Label11</th>\n",
              "      <th>Label12</th>\n",
              "      <th>Label13</th>\n",
              "      <th>Label14</th>\n",
              "      <th>Label15</th>\n",
              "      <th>Text</th>\n",
              "    </tr>\n",
              "  </thead>\n",
              "  <tbody>\n",
              "    <tr>\n",
              "      <th>0</th>\n",
              "      <td>0</td>\n",
              "      <td>0</td>\n",
              "      <td>1</td>\n",
              "      <td>0</td>\n",
              "      <td>1</td>\n",
              "      <td>0</td>\n",
              "      <td>0</td>\n",
              "      <td>0</td>\n",
              "      <td>0</td>\n",
              "      <td>0</td>\n",
              "      <td>0</td>\n",
              "      <td>0</td>\n",
              "      <td>0</td>\n",
              "      <td>0</td>\n",
              "      <td>0</td>\n",
              "      <td>0</td>\n",
              "      <td>Tires delivered garage choice,the garage notif...</td>\n",
              "    </tr>\n",
              "    <tr>\n",
              "      <th>1</th>\n",
              "      <td>1</td>\n",
              "      <td>0</td>\n",
              "      <td>0</td>\n",
              "      <td>0</td>\n",
              "      <td>0</td>\n",
              "      <td>0</td>\n",
              "      <td>0</td>\n",
              "      <td>0</td>\n",
              "      <td>0</td>\n",
              "      <td>0</td>\n",
              "      <td>0</td>\n",
              "      <td>0</td>\n",
              "      <td>0</td>\n",
              "      <td>1</td>\n",
              "      <td>0</td>\n",
              "      <td>0</td>\n",
              "      <td>Easy Tyre Selection Process, Competitive Prici...</td>\n",
              "    </tr>\n",
              "    <tr>\n",
              "      <th>2</th>\n",
              "      <td>2</td>\n",
              "      <td>0</td>\n",
              "      <td>0</td>\n",
              "      <td>0</td>\n",
              "      <td>0</td>\n",
              "      <td>0</td>\n",
              "      <td>0</td>\n",
              "      <td>1</td>\n",
              "      <td>0</td>\n",
              "      <td>0</td>\n",
              "      <td>0</td>\n",
              "      <td>0</td>\n",
              "      <td>0</td>\n",
              "      <td>1</td>\n",
              "      <td>0</td>\n",
              "      <td>0</td>\n",
              "      <td>Very easy use good value money.</td>\n",
              "    </tr>\n",
              "    <tr>\n",
              "      <th>3</th>\n",
              "      <td>3</td>\n",
              "      <td>0</td>\n",
              "      <td>0</td>\n",
              "      <td>0</td>\n",
              "      <td>1</td>\n",
              "      <td>0</td>\n",
              "      <td>0</td>\n",
              "      <td>0</td>\n",
              "      <td>0</td>\n",
              "      <td>0</td>\n",
              "      <td>1</td>\n",
              "      <td>0</td>\n",
              "      <td>0</td>\n",
              "      <td>0</td>\n",
              "      <td>0</td>\n",
              "      <td>0</td>\n",
              "      <td>Really easy convenient arrange</td>\n",
              "    </tr>\n",
              "    <tr>\n",
              "      <th>4</th>\n",
              "      <td>4</td>\n",
              "      <td>0</td>\n",
              "      <td>0</td>\n",
              "      <td>0</td>\n",
              "      <td>1</td>\n",
              "      <td>0</td>\n",
              "      <td>0</td>\n",
              "      <td>0</td>\n",
              "      <td>0</td>\n",
              "      <td>0</td>\n",
              "      <td>0</td>\n",
              "      <td>0</td>\n",
              "      <td>0</td>\n",
              "      <td>1</td>\n",
              "      <td>0</td>\n",
              "      <td>0</td>\n",
              "      <td>It easy select tyre sizes arrange local fittin...</td>\n",
              "    </tr>\n",
              "  </tbody>\n",
              "</table>\n",
              "</div>"
            ],
            "text/plain": [
              "   Document_No  ...                                               Text\n",
              "0            0  ...  Tires delivered garage choice,the garage notif...\n",
              "1            1  ...  Easy Tyre Selection Process, Competitive Prici...\n",
              "2            2  ...                    Very easy use good value money.\n",
              "3            3  ...                     Really easy convenient arrange\n",
              "4            4  ...  It easy select tyre sizes arrange local fittin...\n",
              "\n",
              "[5 rows x 17 columns]"
            ]
          },
          "metadata": {
            "tags": []
          },
          "execution_count": 86
        }
      ]
    },
    {
      "cell_type": "code",
      "metadata": {
        "id": "GdpthTVy_99U"
      },
      "source": [
        "def simple_process(text):\n",
        "    process_text = gensim.utils.simple_preprocess(text, deacc=True)\n",
        "    text = ' '.join([word for word in process_text])\n",
        "    return text\n",
        "\n",
        "def clean_text(text):\n",
        "    \"\"\"\n",
        "    Removes unuseful data from the text like URLs, punctuations, symbols etc.\n",
        "\n",
        "    Parameters:\n",
        "    ----------\n",
        "    text : the sentence to be cleaned\n",
        "\n",
        "    Returns:\n",
        "    -------\n",
        "    cleaned text\n",
        "    \"\"\"\n",
        "    \n",
        "    # remove Unicode characters\n",
        "    text = re.sub(r'[^\\x00-\\x7F]+', '', text)\n",
        "\n",
        "    # taking sequences of characters with alphanumeric characters separated by other characters\n",
        "    text = re.sub(r\"[-?!&]\",' ',text)\n",
        "    text = re.sub(r'''[\"#$%()*+,./:;<=>@[\\]^_`{|}~]''','',text)\n",
        "    \n",
        "    # remove all numeric charracters\n",
        "    text = re.sub(r'[0-9]','',text)\n",
        "\n",
        "    # Remove new line characters\n",
        "    text = re.sub(r'\\s+', ' ', text)\n",
        "\n",
        "    # remove all numeric charracters\n",
        "    text = re.sub(r'^https?:\\/\\/.*[\\r\\n]*', '',text)\n",
        "\n",
        "    Apos_dict={\"'s\":\" is\",\"n't\":\" not\",\"'m\":\" am\",\"'ll\":\" will\",\n",
        "           \"'d\":\" would\",\"'ve\":\" have\",\"'re\":\" are\"}\n",
        "  \n",
        "    #replace the contractions\n",
        "    for key,value in Apos_dict.items():\n",
        "        if key in text:\n",
        "            text=text.replace(key,value)\n",
        "\n",
        "    # convert to lowercase to maintain consistency\n",
        "    text = text.lower()\n",
        "       \n",
        "    return text\n",
        "\n",
        "def lemmatization(texts, allowed_postags=['NOUN', 'ADJ', 'VERB', 'ADV']):\n",
        "    \"\"\"https://spacy.io/api/annotation\n",
        "\n",
        "    Lemmatize the text using the allowed POS tags\n",
        "\n",
        "    Parameters:\n",
        "    ----------\n",
        "    text            : the sentence to be cleaned\n",
        "    allowed_postags : the POS tags that are allowed in the text.\n",
        "\n",
        "    Returns:\n",
        "    -------\n",
        "    lemmatized text\n",
        "    \"\"\"\n",
        "    \n",
        "    nlp = spacy.load('en', disable=['parser', 'ner'])\n",
        "\n",
        "    # Parse the sentence using the loaded 'en' model object `nlp`\n",
        "    doc = nlp(texts)\n",
        "\n",
        "    text = ' '.join([token.lemma_ for token in doc if token.pos_ in allowed_postags])\n",
        "    return text\n"
      ],
      "execution_count": null,
      "outputs": []
    },
    {
      "cell_type": "code",
      "metadata": {
        "id": "vtihuGbkHDEX",
        "colab": {
          "base_uri": "https://localhost:8080/",
          "height": 420,
          "referenced_widgets": [
            "30fe8ef9060f45ce97502c0190a73809",
            "ac150026bfe440bf8509611c593b507a",
            "ab17acd60de444069079a0e459f027c1",
            "fc6444cf67674588bd46fb881e1686a8",
            "d371235e262548668b02c050a1a778b2",
            "481ed4b2ed15496e82e53716494ae0c4",
            "fe7c71956a90401188fb137910794bfa",
            "54afeff86bc147e4b1dde198adabb586"
          ]
        },
        "outputId": "b58a021c-e18c-407d-a2eb-f4ce35a19068"
      },
      "source": [
        "# Clean and lemmatized all the documents in the dataframe.\n",
        "# This step can be omitted as we have already pre-processed the text in the Topic modeling\n",
        "\n",
        "\n",
        "for i in tqdm(range(100)):\n",
        "    annotated_df['Text'][i] = simple_process(annotated_df['Text'][i])\n",
        "    #annotated_df['Text'][i] = clean_text(annotated_df['Text'][i])         # skipped as already cleaned in topic modeling \n",
        "    annotated_df['Text'][i] = lemmatization(annotated_df['Text'][i])\n",
        "\n",
        "#annotated_df.dropna(inplace=True)\n",
        "annotated_df.head()\n"
      ],
      "execution_count": null,
      "outputs": [
        {
          "output_type": "display_data",
          "data": {
            "application/vnd.jupyter.widget-view+json": {
              "model_id": "30fe8ef9060f45ce97502c0190a73809",
              "version_minor": 0,
              "version_major": 2
            },
            "text/plain": [
              "HBox(children=(FloatProgress(value=0.0), HTML(value='')))"
            ]
          },
          "metadata": {
            "tags": []
          }
        },
        {
          "output_type": "stream",
          "text": [
            "/usr/local/lib/python3.7/dist-packages/ipykernel_launcher.py:6: SettingWithCopyWarning: \n",
            "A value is trying to be set on a copy of a slice from a DataFrame\n",
            "\n",
            "See the caveats in the documentation: https://pandas.pydata.org/pandas-docs/stable/user_guide/indexing.html#returning-a-view-versus-a-copy\n",
            "  \n",
            "/usr/local/lib/python3.7/dist-packages/ipykernel_launcher.py:8: SettingWithCopyWarning: \n",
            "A value is trying to be set on a copy of a slice from a DataFrame\n",
            "\n",
            "See the caveats in the documentation: https://pandas.pydata.org/pandas-docs/stable/user_guide/indexing.html#returning-a-view-versus-a-copy\n",
            "  \n"
          ],
          "name": "stderr"
        },
        {
          "output_type": "stream",
          "text": [
            "\n"
          ],
          "name": "stdout"
        },
        {
          "output_type": "execute_result",
          "data": {
            "text/html": [
              "<div>\n",
              "<style scoped>\n",
              "    .dataframe tbody tr th:only-of-type {\n",
              "        vertical-align: middle;\n",
              "    }\n",
              "\n",
              "    .dataframe tbody tr th {\n",
              "        vertical-align: top;\n",
              "    }\n",
              "\n",
              "    .dataframe thead th {\n",
              "        text-align: right;\n",
              "    }\n",
              "</style>\n",
              "<table border=\"1\" class=\"dataframe\">\n",
              "  <thead>\n",
              "    <tr style=\"text-align: right;\">\n",
              "      <th></th>\n",
              "      <th>Document_No</th>\n",
              "      <th>Label1</th>\n",
              "      <th>Label2</th>\n",
              "      <th>Label3</th>\n",
              "      <th>Label4</th>\n",
              "      <th>Label5</th>\n",
              "      <th>Label6</th>\n",
              "      <th>Label7</th>\n",
              "      <th>Label8</th>\n",
              "      <th>Label9</th>\n",
              "      <th>Label10</th>\n",
              "      <th>Label11</th>\n",
              "      <th>Label12</th>\n",
              "      <th>Label13</th>\n",
              "      <th>Label14</th>\n",
              "      <th>Label15</th>\n",
              "      <th>Text</th>\n",
              "    </tr>\n",
              "  </thead>\n",
              "  <tbody>\n",
              "    <tr>\n",
              "      <th>0</th>\n",
              "      <td>0</td>\n",
              "      <td>0</td>\n",
              "      <td>1</td>\n",
              "      <td>0</td>\n",
              "      <td>1</td>\n",
              "      <td>0</td>\n",
              "      <td>0</td>\n",
              "      <td>0</td>\n",
              "      <td>0</td>\n",
              "      <td>0</td>\n",
              "      <td>0</td>\n",
              "      <td>0</td>\n",
              "      <td>0</td>\n",
              "      <td>0</td>\n",
              "      <td>0</td>\n",
              "      <td>0</td>\n",
              "      <td>tire deliver garage choice garage notify deliv...</td>\n",
              "    </tr>\n",
              "    <tr>\n",
              "      <th>1</th>\n",
              "      <td>1</td>\n",
              "      <td>0</td>\n",
              "      <td>0</td>\n",
              "      <td>0</td>\n",
              "      <td>0</td>\n",
              "      <td>0</td>\n",
              "      <td>0</td>\n",
              "      <td>0</td>\n",
              "      <td>0</td>\n",
              "      <td>0</td>\n",
              "      <td>0</td>\n",
              "      <td>0</td>\n",
              "      <td>0</td>\n",
              "      <td>1</td>\n",
              "      <td>0</td>\n",
              "      <td>0</td>\n",
              "      <td>selection process competitive pricing excellen...</td>\n",
              "    </tr>\n",
              "    <tr>\n",
              "      <th>2</th>\n",
              "      <td>2</td>\n",
              "      <td>0</td>\n",
              "      <td>0</td>\n",
              "      <td>0</td>\n",
              "      <td>0</td>\n",
              "      <td>0</td>\n",
              "      <td>0</td>\n",
              "      <td>1</td>\n",
              "      <td>0</td>\n",
              "      <td>0</td>\n",
              "      <td>0</td>\n",
              "      <td>0</td>\n",
              "      <td>0</td>\n",
              "      <td>1</td>\n",
              "      <td>0</td>\n",
              "      <td>0</td>\n",
              "      <td>very easy use good value money</td>\n",
              "    </tr>\n",
              "    <tr>\n",
              "      <th>3</th>\n",
              "      <td>3</td>\n",
              "      <td>0</td>\n",
              "      <td>0</td>\n",
              "      <td>0</td>\n",
              "      <td>1</td>\n",
              "      <td>0</td>\n",
              "      <td>0</td>\n",
              "      <td>0</td>\n",
              "      <td>0</td>\n",
              "      <td>0</td>\n",
              "      <td>1</td>\n",
              "      <td>0</td>\n",
              "      <td>0</td>\n",
              "      <td>0</td>\n",
              "      <td>0</td>\n",
              "      <td>0</td>\n",
              "      <td>really easy convenient arrange</td>\n",
              "    </tr>\n",
              "    <tr>\n",
              "      <th>4</th>\n",
              "      <td>4</td>\n",
              "      <td>0</td>\n",
              "      <td>0</td>\n",
              "      <td>0</td>\n",
              "      <td>1</td>\n",
              "      <td>0</td>\n",
              "      <td>0</td>\n",
              "      <td>0</td>\n",
              "      <td>0</td>\n",
              "      <td>0</td>\n",
              "      <td>0</td>\n",
              "      <td>0</td>\n",
              "      <td>0</td>\n",
              "      <td>1</td>\n",
              "      <td>0</td>\n",
              "      <td>0</td>\n",
              "      <td>easy select size arrange local fit price compe...</td>\n",
              "    </tr>\n",
              "  </tbody>\n",
              "</table>\n",
              "</div>"
            ],
            "text/plain": [
              "   Document_No  ...                                               Text\n",
              "0            0  ...  tire deliver garage choice garage notify deliv...\n",
              "1            1  ...  selection process competitive pricing excellen...\n",
              "2            2  ...                     very easy use good value money\n",
              "3            3  ...                     really easy convenient arrange\n",
              "4            4  ...  easy select size arrange local fit price compe...\n",
              "\n",
              "[5 rows x 17 columns]"
            ]
          },
          "metadata": {
            "tags": []
          },
          "execution_count": 75
        }
      ]
    },
    {
      "cell_type": "code",
      "metadata": {
        "id": "R5FlphG0WaDI"
      },
      "source": [
        "# split into training and validation sets\n",
        "train, test = train_test_split(annotated_df, random_state=42, test_size=0.15)\n",
        "\n",
        "X_train = train.Text\n",
        "X_test  = test.Text\n",
        "y_train = train.drop(labels = ['Document_No','Text'], axis=1).to_numpy()\n",
        "y_test  = test.drop(labels = ['Document_No','Text'], axis=1).to_numpy()"
      ],
      "execution_count": null,
      "outputs": []
    },
    {
      "cell_type": "markdown",
      "metadata": {
        "id": "vnwkrCLXgqNM"
      },
      "source": [
        "## **Bert-serving-client**\n",
        "BERT is a NLP model developed by Google for pre-training language representations. It leverages an enormous amount of plain text data publicly available on the web and is trained in an unsupervised manner. Pre-training a BERT model is a fairly expensive yet one-time procedure for each language. Fortunately, Google released several pre-trained models where you can download from here.\n",
        "\n",
        "Sentence Encoding/Embedding is a upstream task required in many NLP applications, e.g. sentiment analysis, text classification. The goal is to represent a variable length sentence into a fixed length vector, e.g. hello world to [0.1, 0.3, 0.9]. Each element of the vector should “encode” some semantics of the original sentence.\n",
        "\n",
        "Finally, bert-as-service uses BERT as a sentence encoder and hosts it as a service via ZeroMQ, allowing you to map sentences into fixed-length representations in just two lines of code.\n",
        "\n",
        "Here we have used bert-as-client to generate sentence embeddings from pre-trained bert that we can use as embedding vector for our classification purpose."
      ]
    },
    {
      "cell_type": "markdown",
      "metadata": {
        "id": "xI3qznEjy_Jt"
      },
      "source": [
        "### connect to a GPU runtime if using bert-serving-client."
      ]
    },
    {
      "cell_type": "code",
      "metadata": {
        "colab": {
          "base_uri": "https://localhost:8080/"
        },
        "id": "6m4ahmMcHbOD",
        "outputId": "c71e3899-bba1-477d-e2c9-8712c9891d13"
      },
      "source": [
        "pip install -U bert-serving-server bert-serving-client"
      ],
      "execution_count": null,
      "outputs": [
        {
          "output_type": "stream",
          "text": [
            "Collecting bert-serving-server\n",
            "  Downloading bert_serving_server-1.10.0-py3-none-any.whl (61 kB)\n",
            "\u001b[?25l\r\u001b[K     |█████▎                          | 10 kB 34.2 MB/s eta 0:00:01\r\u001b[K     |██████████▋                     | 20 kB 24.1 MB/s eta 0:00:01\r\u001b[K     |████████████████                | 30 kB 17.5 MB/s eta 0:00:01\r\u001b[K     |█████████████████████▎          | 40 kB 16.1 MB/s eta 0:00:01\r\u001b[K     |██████████████████████████▋     | 51 kB 7.9 MB/s eta 0:00:01\r\u001b[K     |███████████████████████████████▉| 61 kB 9.3 MB/s eta 0:00:01\r\u001b[K     |████████████████████████████████| 61 kB 301 kB/s \n",
            "\u001b[?25hCollecting bert-serving-client\n",
            "  Downloading bert_serving_client-1.10.0-py2.py3-none-any.whl (28 kB)\n",
            "Requirement already satisfied: pyzmq>=17.1.0 in /usr/local/lib/python3.7/dist-packages (from bert-serving-server) (22.1.0)\n",
            "Requirement already satisfied: six in /usr/local/lib/python3.7/dist-packages (from bert-serving-server) (1.15.0)\n",
            "Requirement already satisfied: termcolor>=1.1 in /usr/local/lib/python3.7/dist-packages (from bert-serving-server) (1.1.0)\n",
            "Collecting GPUtil>=1.3.0\n",
            "  Downloading GPUtil-1.4.0.tar.gz (5.5 kB)\n",
            "Requirement already satisfied: numpy in /usr/local/lib/python3.7/dist-packages (from bert-serving-server) (1.19.5)\n",
            "Building wheels for collected packages: GPUtil\n",
            "  Building wheel for GPUtil (setup.py) ... \u001b[?25l\u001b[?25hdone\n",
            "  Created wheel for GPUtil: filename=GPUtil-1.4.0-py3-none-any.whl size=7410 sha256=0c9bf60ff85f5f92925eb38e8dd34c1cecf9be82182b29e0cb3dcff3c012848a\n",
            "  Stored in directory: /root/.cache/pip/wheels/6e/f8/83/534c52482d6da64622ddbf72cd93c35d2ef2881b78fd08ff0c\n",
            "Successfully built GPUtil\n",
            "Installing collected packages: GPUtil, bert-serving-server, bert-serving-client\n",
            "Successfully installed GPUtil-1.4.0 bert-serving-client-1.10.0 bert-serving-server-1.10.0\n"
          ],
          "name": "stdout"
        }
      ]
    },
    {
      "cell_type": "code",
      "metadata": {
        "colab": {
          "base_uri": "https://localhost:8080/"
        },
        "id": "K51IdDNUWALI",
        "outputId": "9d419a2d-e7b8-426a-bde4-90441d6e1bf4"
      },
      "source": [
        "!wget https://storage.googleapis.com/bert_models/2018_10_18/uncased_L-12_H-768_A-12.zip && unzip uncased_L-12_H-768_A-12.zip"
      ],
      "execution_count": null,
      "outputs": [
        {
          "output_type": "stream",
          "text": [
            "--2021-07-22 10:45:46--  https://storage.googleapis.com/bert_models/2018_10_18/uncased_L-12_H-768_A-12.zip\n",
            "Resolving storage.googleapis.com (storage.googleapis.com)... 142.251.2.128, 74.125.137.128, 142.250.101.128, ...\n",
            "Connecting to storage.googleapis.com (storage.googleapis.com)|142.251.2.128|:443... connected.\n",
            "HTTP request sent, awaiting response... 200 OK\n",
            "Length: 407727028 (389M) [application/zip]\n",
            "Saving to: ‘uncased_L-12_H-768_A-12.zip’\n",
            "\n",
            "uncased_L-12_H-768_ 100%[===================>] 388.84M   101MB/s    in 3.8s    \n",
            "\n",
            "2021-07-22 10:45:50 (101 MB/s) - ‘uncased_L-12_H-768_A-12.zip’ saved [407727028/407727028]\n",
            "\n",
            "Archive:  uncased_L-12_H-768_A-12.zip\n",
            "   creating: uncased_L-12_H-768_A-12/\n",
            "  inflating: uncased_L-12_H-768_A-12/bert_model.ckpt.meta  \n",
            "  inflating: uncased_L-12_H-768_A-12/bert_model.ckpt.data-00000-of-00001  \n",
            "  inflating: uncased_L-12_H-768_A-12/vocab.txt  \n",
            "  inflating: uncased_L-12_H-768_A-12/bert_model.ckpt.index  \n",
            "  inflating: uncased_L-12_H-768_A-12/bert_config.json  \n"
          ],
          "name": "stdout"
        }
      ]
    },
    {
      "cell_type": "code",
      "metadata": {
        "id": "3cfVfps4WDUT"
      },
      "source": [
        "!nohup bert-serving-start -model_dir uncased_L-12_H-768_A-12/ -num_worker=2 -max_seq_len 512 > out.file 2>&1 &"
      ],
      "execution_count": null,
      "outputs": []
    },
    {
      "cell_type": "markdown",
      "metadata": {
        "id": "pKOEIen6iGwB"
      },
      "source": [
        "**You can avoid these steps to generate the encodings if you want as I have already trained the bert model and saved the encodings for both training and testing data. You can directly use them.**"
      ]
    },
    {
      "cell_type": "markdown",
      "metadata": {
        "id": "e64zbC9UiMR-"
      },
      "source": [
        "#============================================================================================================================================================================================================================================================================================#"
      ]
    },
    {
      "cell_type": "code",
      "metadata": {
        "colab": {
          "base_uri": "https://localhost:8080/",
          "height": 170,
          "referenced_widgets": [
            "74c10d1421c6453caa461702a3e6ed1f",
            "991b49638e084b8388fd3cc3ad382e62",
            "948e0f84554e4ea19febe1f3983438f5",
            "25b27e5a8e6841f69616d29e30acd820",
            "a71694f5b9d249eda20dcb96023ccc15",
            "a95a41066841433fbc1bedbf2fd4cee4",
            "429e2cf45d074b98b290c424823654d2",
            "c42818551c8d4fe28a41f85e64310091"
          ]
        },
        "id": "LX2-fdnTW7yk",
        "outputId": "89ad36e5-f07f-4bbd-eb1b-0c0a250e64d0"
      },
      "source": [
        "from bert_serving.client import BertClient\n",
        "\n",
        "X_train_bert = []\n",
        "bc = BertClient()\n",
        "\n",
        "for i in tqdm(range(8610)):\n",
        "    temp = bc.encode(X_train[i:i+1].to_list())\n",
        "    X_train_bert.append(temp[0])\n",
        "\n",
        "X_train_bert = np.array(X_train_bert)\n",
        "\n",
        "with open('/content/gdrive/MyDrive/Colab Notebooks/TopicModelingAndClassification/trainTopicModelingBERTWordEmbeddings.data', 'wb') as filehandle:\n",
        "    # store the data as binary data stream\n",
        "    pickle.dump(X_train_bert, filehandle)\n"
      ],
      "execution_count": null,
      "outputs": [
        {
          "output_type": "display_data",
          "data": {
            "application/vnd.jupyter.widget-view+json": {
              "model_id": "74c10d1421c6453caa461702a3e6ed1f",
              "version_minor": 0,
              "version_major": 2
            },
            "text/plain": [
              "HBox(children=(FloatProgress(value=0.0, max=8610.0), HTML(value='')))"
            ]
          },
          "metadata": {
            "tags": []
          }
        },
        {
          "output_type": "stream",
          "text": [
            "/usr/local/lib/python3.7/dist-packages/bert_serving/client/__init__.py:299: UserWarning: some of your sentences have more tokens than \"max_seq_len=512\" set on the server, as consequence you may get less-accurate or truncated embeddings.\n",
            "here is what you can do:\n",
            "- disable the length-check by create a new \"BertClient(check_length=False)\" when you do not want to display this warning\n",
            "- or, start a new server with a larger \"max_seq_len\"\n",
            "  '- or, start a new server with a larger \"max_seq_len\"' % self.length_limit)\n"
          ],
          "name": "stderr"
        },
        {
          "output_type": "stream",
          "text": [
            "\n"
          ],
          "name": "stdout"
        }
      ]
    },
    {
      "cell_type": "code",
      "metadata": {
        "colab": {
          "base_uri": "https://localhost:8080/",
          "height": 66,
          "referenced_widgets": [
            "4386e75d5ba846899b32ae5423abf50f",
            "69b53507e95e421cbf18618cb96c2f16",
            "deaa8e74ecc94f5e9e27fdc6eee6e03d",
            "aba0d0954521463db0d3929020e76d53",
            "047354df95124e18a2b24e58e25f5fd1",
            "5fb5cfb1ee01438185710b7806d80c39",
            "949f05722ed74dfe9aecbb386c9b585b",
            "314bb7fda86b4187bf4eceb0af856a18"
          ]
        },
        "id": "RCVe68zXXFry",
        "outputId": "a364f715-2fb8-4d7e-8d21-3ee7e6cc75e1"
      },
      "source": [
        "X_val_bert = []\n",
        "\n",
        "for i in tqdm(range(1520)):\n",
        "    temp = bc.encode(X_val[i:i+1].to_list())\n",
        "    X_val_bert.append(temp[0])\n",
        "X_val_bert = np.array(X_val_bert)\n",
        "\n",
        "with open('/content/gdrive/MyDrive/Colab Notebooks/TopicModelingAndClassification/testTopicModelingBERTWordEmbeddings.data', 'wb') as filehandle:\n",
        "    # store the data as binary data stream\n",
        "    pickle.dump(X_val_bert, filehandle)"
      ],
      "execution_count": null,
      "outputs": [
        {
          "output_type": "display_data",
          "data": {
            "application/vnd.jupyter.widget-view+json": {
              "model_id": "4386e75d5ba846899b32ae5423abf50f",
              "version_minor": 0,
              "version_major": 2
            },
            "text/plain": [
              "HBox(children=(FloatProgress(value=0.0, max=1520.0), HTML(value='')))"
            ]
          },
          "metadata": {
            "tags": []
          }
        },
        {
          "output_type": "stream",
          "text": [
            "\n"
          ],
          "name": "stdout"
        }
      ]
    },
    {
      "cell_type": "markdown",
      "metadata": {
        "id": "KmeaglcwieIA"
      },
      "source": [
        "#============================================================================================================================================================================================================================================================================================#"
      ]
    },
    {
      "cell_type": "markdown",
      "metadata": {
        "id": "8NGbJNMWigHE"
      },
      "source": [
        "Read the sentence encodings for training and testing data."
      ]
    },
    {
      "cell_type": "code",
      "metadata": {
        "id": "JvLg6YGRXsfn"
      },
      "source": [
        "with open('/content/gdrive/MyDrive/Colab Notebooks/TopicModelingAndClassification/trainTopicModelingBERTWordEmbeddings.data', 'rb') as filehandle:\n",
        "    # read the data as binary data stream\n",
        "    X_train_bert = pickle.load(filehandle)\n",
        "\n",
        "with open('/content/gdrive/MyDrive/Colab Notebooks/TopicModelingAndClassification/testTopicModelingBERTWordEmbeddings.data', 'rb') as filehandle:\n",
        "    # store the data as binary data stream\n",
        "    X_val_bert = pickle.load(filehandle)"
      ],
      "execution_count": null,
      "outputs": []
    },
    {
      "cell_type": "code",
      "metadata": {
        "id": "ybSz25J9kT94"
      },
      "source": [
        "# normalize the training and testing data\n",
        "X_train_bert = preprocessing.normalize(X_train_bert)\n",
        "X_val_bert = preprocessing.normalize(X_val_bert)"
      ],
      "execution_count": null,
      "outputs": []
    },
    {
      "cell_type": "code",
      "metadata": {
        "id": "kv1oDHNukWze"
      },
      "source": [
        "# standardize the testing and training data\n",
        "scaler_Xtrain_bert = preprocessing.StandardScaler().fit(X_train_bert)\n",
        "scaler_Xval_bert = preprocessing.StandardScaler().fit(X_val_bert)\n",
        "\n",
        "X_train_bert_scaled = scaler_Xtrain_bert.transform(X_train_bert)\n",
        "X_val_bert_scaled = scaler_Xval_bert.transform(X_val_bert)"
      ],
      "execution_count": null,
      "outputs": []
    },
    {
      "cell_type": "code",
      "metadata": {
        "colab": {
          "base_uri": "https://localhost:8080/"
        },
        "id": "dGMuyG5U2T4Q",
        "outputId": "ddb7e3e3-2279-48ed-e7f3-1a046f4a969e"
      },
      "source": [
        "print(X_train_bert_scaled.shape)"
      ],
      "execution_count": null,
      "outputs": [
        {
          "output_type": "stream",
          "text": [
            "(8610, 768)\n"
          ],
          "name": "stdout"
        }
      ]
    },
    {
      "cell_type": "code",
      "metadata": {
        "colab": {
          "base_uri": "https://localhost:8080/"
        },
        "id": "e__NgyKLa2nh",
        "outputId": "accf7f20-3c73-4770-d334-219c2ecfa736"
      },
      "source": [
        "y_train"
      ],
      "execution_count": null,
      "outputs": [
        {
          "output_type": "execute_result",
          "data": {
            "text/plain": [
              "array([[1, 0, 0, ..., 0, 0, 0],\n",
              "       [1, 0, 0, ..., 0, 0, 0],\n",
              "       [0, 0, 0, ..., 1, 0, 0],\n",
              "       ...,\n",
              "       [0, 1, 0, ..., 0, 0, 0],\n",
              "       [0, 0, 0, ..., 1, 0, 0],\n",
              "       [0, 0, 0, ..., 0, 0, 1]])"
            ]
          },
          "metadata": {
            "tags": []
          },
          "execution_count": 12
        }
      ]
    },
    {
      "cell_type": "markdown",
      "metadata": {
        "id": "DnmXeM_wiI4K"
      },
      "source": [
        "# **Multi - Label Classification of topics**\n",
        "Can classify more than one topics per document"
      ]
    },
    {
      "cell_type": "code",
      "metadata": {
        "id": "7s3kHcx8BNl7"
      },
      "source": [
        "def create_model():\n",
        "    input_dim = X_train_bert_scaled.shape[1]  # Number of features\n",
        "\n",
        "    model = Sequential()\n",
        "    model.add(layers.Dense(512, input_dim=input_dim, activation='relu'))\n",
        "    model.add(layers.Dropout(0.5))\n",
        "    model.add(layers.Dense(512, input_dim=input_dim, activation='relu'))\n",
        "    model.add(layers.Dropout(0.5))\n",
        "    model.add(layers.Dense(64, input_dim=input_dim, activation='relu'))\n",
        "    model.add(layers.Dense(15, activation='sigmoid')) # activation = {sigmoid (for multi-label) ; softmax (for multi-class)} \n",
        "\n",
        "    # use binary_crossentropy for multi-label classification (classify more than one topics per document)\n",
        "    # use categorical_crossentropy for multi-class classification (classify one topic per document)\n",
        "    model.compile(loss='binary_crossentropy', optimizer='adam', \n",
        "                  metrics=['accuracy'])\n",
        "    \n",
        "    return model"
      ],
      "execution_count": null,
      "outputs": []
    },
    {
      "cell_type": "code",
      "metadata": {
        "colab": {
          "base_uri": "https://localhost:8080/"
        },
        "id": "6IiQsjXsvKhy",
        "outputId": "491e81cb-8a70-4915-8326-77e002598f3f"
      },
      "source": [
        "model = create_model()\n",
        "earlyStopping = callbacks.EarlyStopping(monitor='val_accuracy', patience=12)\n",
        "modelCheckpoint = callbacks.ModelCheckpoint('/content/gdrive/MyDrive/Colab Notebooks/TopicModelingAndClassification/NeuralN_multi_label.hdf5',\n",
        "                                            save_best_only=True, monitor='val_accuracy', mode='max')\n",
        "#reduce_lr = callbacks.ReduceLROnPlateau(monitor='val_loss', factor=0.8,patience=10, min_lr=0.001)\n",
        "history = model.fit(X_train_bert_scaled, y_train,\n",
        "                    epochs=80,\n",
        "                    validation_data=(X_val_bert_scaled, y_test),\n",
        "                    batch_size=100, callbacks=[earlyStopping,modelCheckpoint])"
      ],
      "execution_count": null,
      "outputs": [
        {
          "output_type": "stream",
          "text": [
            "Epoch 1/80\n",
            "87/87 [==============================] - 17s 22ms/step - loss: 0.3910 - accuracy: 0.2025 - val_loss: 0.2304 - val_accuracy: 0.3980\n",
            "Epoch 2/80\n",
            "87/87 [==============================] - 1s 15ms/step - loss: 0.2327 - accuracy: 0.3705 - val_loss: 0.2124 - val_accuracy: 0.3980\n",
            "Epoch 3/80\n",
            "87/87 [==============================] - 1s 15ms/step - loss: 0.2113 - accuracy: 0.4100 - val_loss: 0.1994 - val_accuracy: 0.4368\n",
            "Epoch 4/80\n",
            "87/87 [==============================] - 1s 15ms/step - loss: 0.1964 - accuracy: 0.4438 - val_loss: 0.1916 - val_accuracy: 0.4395\n",
            "Epoch 5/80\n",
            "87/87 [==============================] - 1s 16ms/step - loss: 0.1862 - accuracy: 0.4659 - val_loss: 0.1864 - val_accuracy: 0.4500\n",
            "Epoch 6/80\n",
            "87/87 [==============================] - 1s 15ms/step - loss: 0.1774 - accuracy: 0.4835 - val_loss: 0.1824 - val_accuracy: 0.4783\n",
            "Epoch 7/80\n",
            "87/87 [==============================] - 1s 16ms/step - loss: 0.1696 - accuracy: 0.4926 - val_loss: 0.1808 - val_accuracy: 0.4645\n",
            "Epoch 8/80\n",
            "87/87 [==============================] - 1s 15ms/step - loss: 0.1675 - accuracy: 0.4948 - val_loss: 0.1768 - val_accuracy: 0.4895\n",
            "Epoch 9/80\n",
            "87/87 [==============================] - 1s 16ms/step - loss: 0.1597 - accuracy: 0.5135 - val_loss: 0.1773 - val_accuracy: 0.5007\n",
            "Epoch 10/80\n",
            "87/87 [==============================] - 1s 15ms/step - loss: 0.1576 - accuracy: 0.5117 - val_loss: 0.1742 - val_accuracy: 0.4743\n",
            "Epoch 11/80\n",
            "87/87 [==============================] - 1s 15ms/step - loss: 0.1513 - accuracy: 0.5254 - val_loss: 0.1731 - val_accuracy: 0.4908\n",
            "Epoch 12/80\n",
            "87/87 [==============================] - 1s 15ms/step - loss: 0.1462 - accuracy: 0.5378 - val_loss: 0.1708 - val_accuracy: 0.5059\n",
            "Epoch 13/80\n",
            "87/87 [==============================] - 1s 15ms/step - loss: 0.1409 - accuracy: 0.5460 - val_loss: 0.1719 - val_accuracy: 0.5066\n",
            "Epoch 14/80\n",
            "87/87 [==============================] - 1s 15ms/step - loss: 0.1393 - accuracy: 0.5428 - val_loss: 0.1717 - val_accuracy: 0.5000\n",
            "Epoch 15/80\n",
            "87/87 [==============================] - 1s 15ms/step - loss: 0.1335 - accuracy: 0.5517 - val_loss: 0.1720 - val_accuracy: 0.4651\n",
            "Epoch 16/80\n",
            "87/87 [==============================] - 1s 15ms/step - loss: 0.1337 - accuracy: 0.5618 - val_loss: 0.1714 - val_accuracy: 0.5013\n",
            "Epoch 17/80\n",
            "87/87 [==============================] - 1s 15ms/step - loss: 0.1282 - accuracy: 0.5611 - val_loss: 0.1696 - val_accuracy: 0.4934\n",
            "Epoch 18/80\n",
            "87/87 [==============================] - 1s 15ms/step - loss: 0.1256 - accuracy: 0.5624 - val_loss: 0.1717 - val_accuracy: 0.4914\n",
            "Epoch 19/80\n",
            "87/87 [==============================] - 1s 15ms/step - loss: 0.1244 - accuracy: 0.5693 - val_loss: 0.1700 - val_accuracy: 0.5020\n",
            "Epoch 20/80\n",
            "87/87 [==============================] - 1s 16ms/step - loss: 0.1159 - accuracy: 0.5822 - val_loss: 0.1697 - val_accuracy: 0.4776\n",
            "Epoch 21/80\n",
            "87/87 [==============================] - 1s 15ms/step - loss: 0.1200 - accuracy: 0.5729 - val_loss: 0.1717 - val_accuracy: 0.4796\n",
            "Epoch 22/80\n",
            "87/87 [==============================] - 1s 15ms/step - loss: 0.1179 - accuracy: 0.5689 - val_loss: 0.1717 - val_accuracy: 0.4697\n",
            "Epoch 23/80\n",
            "87/87 [==============================] - 1s 15ms/step - loss: 0.1139 - accuracy: 0.5826 - val_loss: 0.1697 - val_accuracy: 0.4816\n",
            "Epoch 24/80\n",
            "87/87 [==============================] - 1s 15ms/step - loss: 0.1112 - accuracy: 0.5872 - val_loss: 0.1713 - val_accuracy: 0.4974\n",
            "Epoch 25/80\n",
            "87/87 [==============================] - 1s 15ms/step - loss: 0.1084 - accuracy: 0.5947 - val_loss: 0.1715 - val_accuracy: 0.4974\n"
          ],
          "name": "stdout"
        }
      ]
    },
    {
      "cell_type": "code",
      "metadata": {
        "id": "SvQQX_Lt87rA"
      },
      "source": [
        "plt.style.use('ggplot')\n",
        "\n",
        "def plot_history(history):\n",
        "    acc = history.history['accuracy']\n",
        "    val_acc = history.history['val_accuracy']\n",
        "    loss = history.history['loss']\n",
        "    val_loss = history.history['val_loss']\n",
        "    x = range(1, len(acc) + 1)\n",
        "\n",
        "    plt.figure(figsize=(12, 5))\n",
        "    plt.subplot(1, 2, 1)\n",
        "    plt.plot(x, acc, 'b', label='Training acc')\n",
        "    plt.plot(x, val_acc, 'r', label='Validation acc')\n",
        "    plt.title('Training and validation accuracy')\n",
        "    plt.legend()\n",
        "    plt.subplot(1, 2, 2)\n",
        "    plt.plot(x, loss, 'b', label='Training loss')\n",
        "    plt.plot(x, val_loss, 'r', label='Validation loss')\n",
        "    plt.title('Training and validation loss')\n",
        "    plt.legend()\n"
      ],
      "execution_count": null,
      "outputs": []
    },
    {
      "cell_type": "code",
      "metadata": {
        "colab": {
          "base_uri": "https://localhost:8080/",
          "height": 337
        },
        "id": "-6taVTP89Rw5",
        "outputId": "2679ac74-2061-422d-8e06-f5f4dfa4421d"
      },
      "source": [
        "plot_history(history)"
      ],
      "execution_count": null,
      "outputs": [
        {
          "output_type": "display_data",
          "data": {
            "image/png": "[encoded data removed]",
            "text/plain": [
              "<Figure size 864x360 with 2 Axes>"
            ]
          },
          "metadata": {
            "tags": []
          }
        }
      ]
    },
    {
      "cell_type": "code",
      "metadata": {
        "colab": {
          "base_uri": "https://localhost:8080/"
        },
        "id": "uyq91t5Dwsvq",
        "outputId": "1d82506c-3b65-4ba3-9bdb-38c2351f3783"
      },
      "source": [
        "from tensorflow import keras\n",
        "model = keras.models.load_model('/content/gdrive/MyDrive/Colab Notebooks/TopicModelingAndClassification/NeuralN_multi_label.hdf5')\n",
        "print(np.round(model.predict(X_val_bert_scaled)[0:4]))\n",
        "print(model.predict_classes(X_val_bert_scaled)[0:4])"
      ],
      "execution_count": null,
      "outputs": [
        {
          "output_type": "stream",
          "text": [
            "[[0. 0. 0. 0. 0. 0. 0. 1. 0. 0. 0. 0. 0. 0. 0.]\n",
            " [0. 0. 0. 0. 0. 0. 0. 0. 0. 0. 0. 0. 0. 0. 0.]\n",
            " [1. 0. 0. 0. 1. 0. 0. 0. 0. 0. 0. 0. 0. 1. 0.]\n",
            " [0. 0. 0. 0. 1. 0. 0. 0. 0. 0. 0. 0. 0. 0. 0.]]\n",
            "[7 0 0 4]\n"
          ],
          "name": "stdout"
        },
        {
          "output_type": "stream",
          "text": [
            "/usr/local/lib/python3.7/dist-packages/tensorflow/python/keras/engine/sequential.py:455: UserWarning: `model.predict_classes()` is deprecated and will be removed after 2021-01-01. Please use instead:* `np.argmax(model.predict(x), axis=-1)`,   if your model does multi-class classification   (e.g. if it uses a `softmax` last-layer activation).* `(model.predict(x) > 0.5).astype(\"int32\")`,   if your model does binary classification   (e.g. if it uses a `sigmoid` last-layer activation).\n",
            "  warnings.warn('`model.predict_classes()` is deprecated and '\n"
          ],
          "name": "stderr"
        }
      ]
    },
    {
      "cell_type": "code",
      "metadata": {
        "colab": {
          "base_uri": "https://localhost:8080/"
        },
        "id": "lFBVXl77TyJQ",
        "outputId": "77273a98-c4cd-4717-d1a9-2bfbf36c9ba6"
      },
      "source": [
        "# testing our model with real time texts.\n",
        "\n",
        "def check_multi_topics_dl(text, X_val):\n",
        "    model = keras.models.load_model('/content/gdrive/MyDrive/Colab Notebooks/TopicModelingAndClassification/NeuralN_multi_label.hdf5')\n",
        "    \n",
        "    for i in range(0,10):\n",
        "\n",
        "        X_test = np.array([X_val[i]])\n",
        "        #print(X_test)\n",
        "        pred = np.round(model.predict(X_test))\n",
        "        j = 0\n",
        "        list_topics_num = []\n",
        "        for labels in pred[0]:\n",
        "            if labels==1.0:\n",
        "                list_topics_num.append(j)\n",
        "            j+=1\n",
        "        print(\"The topics for the text : \", text[i:i+1].tolist()[0], \" are ::::::\")\n",
        "        for topics_num in list_topics_num:\n",
        "            print('--------------',topic_from_topic_cluster[topics_num], '---------------')\n",
        "\n",
        "check_multi_topics_dl(X_test, X_val_bert_scaled)"
      ],
      "execution_count": null,
      "outputs": [
        {
          "output_type": "stream",
          "text": [
            "The topics for the text :  Took my money could not supply mybad news. Took my money could not supply my correct tyre and never replied to four emails  are ::::::\n",
            "-------------- tire quality ---------------\n",
            "The topics for the text :  Excellent price, superb service. Chose to have tyres fitted at home, fitters confirmed booking, then called to see if an earlier appointment could suit as tyres arrived early, polite, professional and not at all pushy.  are ::::::\n",
            "The topics for the text :  I have used you in the past and had excellent service, the past company I had the tyres fitted at were excellent, but no longer one of your options for fitting now. I chose your premium fitter in Basingstoke, Formula One Auto - and they were awful. Their customer service was non existent. I phoned up and got a quote for having the wheels tracked, they quoted £ for front and £ for front and back if needed, but I probably only had the fronts that it was possible to do. With this I sent my husband to have the tyres fitted, so when they charged him £ he paid assuming it had been front and back that needed. They took nearly  hours from our apointment to fit the tyres, way longer than it should have for  tyres. I phoned them and said that the paperwork clearly stated only the front had been balanced and was given a wishy washy excuse for the over charge, which, because I know about cars I knew to be rubbish, he then said that they couldnt refund the over charge directly and needed to have a cheque sent to me, which I would get in a week. I then discovered the next day when I took the car out for a drive that they had under inflated all of the tyres by  to  psi. After  days I phoned back and advised the regional manager who answered the phone at the branch about the under inlfation and that the cheque had not arrived. I was promised a call back, which never came. A week later I chased again, again promised a call back and again did not hear from them. A few days later I called again and got the regional manager again who promised a call back, but still did not call. a few days later I eventually got the cheque refund through. The tyres themselves are good, but the company who represents you for fitting is by far one of the worse and clearly try to take advantage of people who they think know nothing about cars. Thankfully although my husband doesnt I do, it is disgusting that they tried to take advantage and over charge people. So for that reason whilst I may still recommend REDACTED for tyres I would be very, very, very careful about who fits mine in the future and advise anyone else to be too.  are ::::::\n",
            "-------------- wait time ---------------\n",
            "-------------- change of date, booking confusion ---------------\n",
            "-------------- tyre quality ---------------\n",
            "The topics for the text :  Would have preferred notification of what time the fitter would arrive and a contact the day before other than that perfect  are ::::::\n",
            "-------------- change of date, booking confusion ---------------\n",
            "The topics for the text :  Website easy to use. Garage helpful and efficient. Good price.  are ::::::\n",
            "-------------- garage service ---------------\n",
            "-------------- value for money ---------------\n",
            "The topics for the text :  Best price, easy to order, efficient and friendly fitters  are ::::::\n",
            "-------------- garage service ---------------\n",
            "-------------- length of fitting ---------------\n",
            "-------------- value for money ---------------\n",
            "The topics for the text :  A very efficient, high value and flexible system that I have used now on four occasions and will continue to do so.  are ::::::\n",
            "-------------- delivery punctuality ---------------\n",
            "The topics for the text :  Polite quick and efficient service. Person who acted as the company representative was polite and helpful. I was met as I arrived and was dealt with straight away no waiting around. The premises were very basic but seemed to run efficiently - all seemed neat and tidy and will organised. I was near a large Tesco store so I was able to do some shopping as they got on with my tyres. I received a call on my mobile phone when the work was complete. I picked up my car straight away everything seemed in order. They could not give me the usual receipt but gave me a copy of the worksheet instead.  are ::::::\n",
            "-------------- wait time ---------------\n",
            "The topics for the text :  Easy to order online and book a slot. Good price, convenient location. Guys doing the work were very polite and kept me informed.  are ::::::\n",
            "-------------- garage service ---------------\n",
            "-------------- ease of booking ---------------\n",
            "-------------- value for money ---------------\n",
            "The topics for the text :  Make appt then told tyres werent delivered then told they were so managed to keep same slot. Good value tyres and excellent service by Tudor Car Services Barrow in Furness  are ::::::\n",
            "-------------- tire quality ---------------\n"
          ],
          "name": "stdout"
        }
      ]
    },
    {
      "cell_type": "markdown",
      "metadata": {
        "id": "MdaiukA_qtAj"
      },
      "source": [
        "# **Multi-label classification using Classifier Chains**\n",
        "A type of multi-label classification in which a chain of binary classifiers C0, C1, . . . , Cn is constructed, where a classifier Ci uses the predictions of all the classifier Cj , where j < i. This way the method, also called classifier chains (CC), can take into account label correlations.\n",
        "The total number of classifiers needed for this approach is equal to the number of classes, but the training of the classifiers is more involved.\n",
        "\n",
        "https://arxiv.org/abs/1912.13405"
      ]
    },
    {
      "cell_type": "code",
      "metadata": {
        "colab": {
          "base_uri": "https://localhost:8080/"
        },
        "id": "1rp6rMVyby8C",
        "outputId": "e82d9d0c-e16c-44e3-87fb-1357c7649678"
      },
      "source": [
        "# using classifier chains\n",
        "\n",
        "# initialize classifier chains multi-label classifiers\n",
        "LogisticRegressionClassifier = ClassifierChain(LogisticRegression(max_iter=1000))\n",
        "NaiveBayesClassifier         = ClassifierChain(GaussianNB())\n",
        "SVMClassifier                = ClassifierChain(LinearSVC(dual=False, max_iter=2000))\n",
        "\n",
        "\n",
        "# Training the models on train data\n",
        "LogisticRegressionClassifier.fit(X_train_bert_scaled, y_train)\n",
        "NaiveBayesClassifier.fit(X_train_bert_scaled, y_train)\n",
        "SVMClassifier.fit(X_train_bert_scaled, y_train)\n",
        "\n",
        "# predict\n",
        "LRpredictions = LogisticRegressionClassifier.predict(X_val_bert_scaled)\n",
        "NBpredictions = NaiveBayesClassifier.predict(X_val_bert_scaled)\n",
        "SVMpredictions = SVMClassifier.predict(X_val_bert_scaled)\n",
        "\n",
        "# accuracy\n",
        "print(\"Logistic Regtession Accuracy = \", accuracy_score(y_test,LRpredictions))\n",
        "print(\"Naive Bayes Accuracy = \", accuracy_score(y_test,NBpredictions))\n",
        "print(\"SVM Accuracy = \", accuracy_score(y_test,SVMpredictions))"
      ],
      "execution_count": null,
      "outputs": [
        {
          "output_type": "stream",
          "text": [
            "Logistic Regtession Accuracy =  0.3368421052631579\n",
            "Naive Bayes Accuracy =  0.02236842105263158\n",
            "SVM Accuracy =  0.30723684210526314\n"
          ],
          "name": "stdout"
        }
      ]
    },
    {
      "cell_type": "code",
      "metadata": {
        "id": "Ry3OLRtTcMqG"
      },
      "source": [
        "with open('/content/gdrive/MyDrive/Colab Notebooks/TopicModelingAndClassification/LR_multiLabelModel.pkl', 'wb') as filehandle:\n",
        "    # store the data as binary data stream\n",
        "    pickle.dump(LogisticRegressionClassifier, filehandle)\n",
        "\n",
        "with open('/content/gdrive/MyDrive/Colab Notebooks/TopicModelingAndClassification/NB_multiLabelModel.pkl', 'wb') as filehandle:\n",
        "    # store the data as binary data stream\n",
        "    pickle.dump(NaiveBayesClassifier, filehandle)\n",
        "\n",
        "with open('/content/gdrive/MyDrive/Colab Notebooks/TopicModelingAndClassification/SVM_multiLabelModel.pkl', 'wb') as filehandle:\n",
        "    # store the data as binary data stream\n",
        "    pickle.dump(SVMClassifier, filehandle)\n"
      ],
      "execution_count": null,
      "outputs": []
    },
    {
      "cell_type": "code",
      "metadata": {
        "colab": {
          "base_uri": "https://localhost:8080/"
        },
        "id": "JThybPN-c5bD",
        "outputId": "9254bf5b-ede0-4cac-e3af-761ebf9f368d"
      },
      "source": [
        "def check_multi_topics_ml(text, X_val):\n",
        "    with open('/content/gdrive/MyDrive/Colab Notebooks/TopicModelingAndClassification/LR_multiLabelModel.pkl', 'rb') as file:\n",
        "        classifier = pickle.load(file)\n",
        "    #classifier = LogisticRegressionClassifier\n",
        "    for i in range(10):\n",
        "\n",
        "        X_test = np.array([X_val[i]])\n",
        "        #print(X_test)\n",
        "        pred = classifier.predict(X_test)\n",
        "        j = 0\n",
        "        list_topics_num = []\n",
        "        for labels in pred[0]:\n",
        "            if labels==1.0:\n",
        "                list_topics_num.append(j)\n",
        "            j+=1\n",
        "        print(\"The topics for the text : \", text[i:i+1].tolist()[0], \" are ::::::\")\n",
        "        for topics_num in list_topics_num:\n",
        "            print('--------------',topic_from_topic_cluster[topics_num], '---------------')\n",
        "\n",
        "check_multi_topics_ml(X_test, X_val_bert_scaled)"
      ],
      "execution_count": null,
      "outputs": [
        {
          "output_type": "stream",
          "text": [
            "The topics for the text :  Took my money could not supply mybad news. Took my money could not supply my correct tyre and never replied to four emails  are ::::::\n",
            "-------------- wait time ---------------\n",
            "-------------- tire quality ---------------\n",
            "The topics for the text :  Excellent price, superb service. Chose to have tyres fitted at home, fitters confirmed booking, then called to see if an earlier appointment could suit as tyres arrived early, polite, professional and not at all pushy.  are ::::::\n",
            "-------------- mobile fitter ---------------\n",
            "-------------- tyre quality ---------------\n",
            "The topics for the text :  I have used you in the past and had excellent service, the past company I had the tyres fitted at were excellent, but no longer one of your options for fitting now. I chose your premium fitter in Basingstoke, Formula One Auto - and they were awful. Their customer service was non existent. I phoned up and got a quote for having the wheels tracked, they quoted £ for front and £ for front and back if needed, but I probably only had the fronts that it was possible to do. With this I sent my husband to have the tyres fitted, so when they charged him £ he paid assuming it had been front and back that needed. They took nearly  hours from our apointment to fit the tyres, way longer than it should have for  tyres. I phoned them and said that the paperwork clearly stated only the front had been balanced and was given a wishy washy excuse for the over charge, which, because I know about cars I knew to be rubbish, he then said that they couldnt refund the over charge directly and needed to have a cheque sent to me, which I would get in a week. I then discovered the next day when I took the car out for a drive that they had under inflated all of the tyres by  to  psi. After  days I phoned back and advised the regional manager who answered the phone at the branch about the under inlfation and that the cheque had not arrived. I was promised a call back, which never came. A week later I chased again, again promised a call back and again did not hear from them. A few days later I called again and got the regional manager again who promised a call back, but still did not call. a few days later I eventually got the cheque refund through. The tyres themselves are good, but the company who represents you for fitting is by far one of the worse and clearly try to take advantage of people who they think know nothing about cars. Thankfully although my husband doesnt I do, it is disgusting that they tried to take advantage and over charge people. So for that reason whilst I may still recommend REDACTED for tyres I would be very, very, very careful about who fits mine in the future and advise anyone else to be too.  are ::::::\n",
            "-------------- wait time ---------------\n",
            "-------------- tyre quality ---------------\n",
            "The topics for the text :  Would have preferred notification of what time the fitter would arrive and a contact the day before other than that perfect  are ::::::\n",
            "-------------- wait time ---------------\n",
            "-------------- change of date, booking confusion ---------------\n",
            "The topics for the text :  Website easy to use. Garage helpful and efficient. Good price.  are ::::::\n",
            "-------------- garage service ---------------\n",
            "-------------- length of fitting ---------------\n",
            "The topics for the text :  Best price, easy to order, efficient and friendly fitters  are ::::::\n",
            "-------------- garage service ---------------\n",
            "-------------- value for money ---------------\n",
            "The topics for the text :  A very efficient, high value and flexible system that I have used now on four occasions and will continue to do so.  are ::::::\n",
            "-------------- value for money ---------------\n",
            "The topics for the text :  Polite quick and efficient service. Person who acted as the company representative was polite and helpful. I was met as I arrived and was dealt with straight away no waiting around. The premises were very basic but seemed to run efficiently - all seemed neat and tidy and will organised. I was near a large Tesco store so I was able to do some shopping as they got on with my tyres. I received a call on my mobile phone when the work was complete. I picked up my car straight away everything seemed in order. They could not give me the usual receipt but gave me a copy of the worksheet instead.  are ::::::\n",
            "-------------- wait time ---------------\n",
            "The topics for the text :  Easy to order online and book a slot. Good price, convenient location. Guys doing the work were very polite and kept me informed.  are ::::::\n",
            "-------------- ease of booking ---------------\n",
            "-------------- value for money ---------------\n",
            "The topics for the text :  Make appt then told tyres werent delivered then told they were so managed to keep same slot. Good value tyres and excellent service by Tudor Car Services Barrow in Furness  are ::::::\n",
            "-------------- wait time ---------------\n"
          ],
          "name": "stdout"
        }
      ]
    },
    {
      "cell_type": "markdown",
      "metadata": {
        "id": "tktSEFFvfxdi"
      },
      "source": [
        "# **Multi - Class Topic Classification:**\n",
        "\n",
        "Can classify the most dominant topic for a perticular document"
      ]
    },
    {
      "cell_type": "code",
      "metadata": {
        "id": "xNZdOHxjimss"
      },
      "source": [
        "# loading the dataset saved after modeling the topics. This dataset will be used as the training and testing set for classification\n",
        "# use dataset : \"annotated_dataset_multi_label_dl.csv\" for multi-label\n",
        "# use dataset : \"annotated_dataset_multi_class.csv\" for multi-class\n",
        "\n",
        "annotated_df = pd.read_csv('/content/gdrive/MyDrive/Colab Notebooks/TopicModelingAndClassification/annotated_dataset_multi_class.csv')"
      ],
      "execution_count": null,
      "outputs": []
    },
    {
      "cell_type": "code",
      "metadata": {
        "id": "mANlxsbNixzf"
      },
      "source": [
        "# split into training and validation sets\n",
        "train, test = train_test_split(annotated_df, random_state=42, test_size=0.15)\n",
        "\n",
        "X_train = train.Text\n",
        "X_test  = test.Text\n",
        "y_train = train.drop(labels = ['Document_No','Text'], axis=1).to_numpy()\n",
        "y_test  = test.drop(labels = ['Document_No','Text'], axis=1).to_numpy()"
      ],
      "execution_count": null,
      "outputs": []
    },
    {
      "cell_type": "code",
      "metadata": {
        "id": "4EpzfyVsjDn9"
      },
      "source": [
        "with open('/content/gdrive/MyDrive/Colab Notebooks/TopicModelingAndClassification/trainTopicModelingBERTWordEmbeddings.data', 'rb') as filehandle:\n",
        "    # read the data as binary data stream\n",
        "    X_train_bert = pickle.load(filehandle)\n",
        "\n",
        "with open('/content/gdrive/MyDrive/Colab Notebooks/TopicModelingAndClassification/testTopicModelingBERTWordEmbeddings.data', 'rb') as filehandle:\n",
        "    # store the data as binary data stream\n",
        "    X_val_bert = pickle.load(filehandle)"
      ],
      "execution_count": null,
      "outputs": []
    },
    {
      "cell_type": "code",
      "metadata": {
        "id": "JB_7pCl4jKFS"
      },
      "source": [
        "# normalize the training and testing data\n",
        "X_train_bert = preprocessing.normalize(X_train_bert)\n",
        "X_val_bert = preprocessing.normalize(X_val_bert)"
      ],
      "execution_count": null,
      "outputs": []
    },
    {
      "cell_type": "code",
      "metadata": {
        "id": "sRR1ZeuAjKFS"
      },
      "source": [
        "# standardize the testing and training data\n",
        "scaler_Xtrain_bert = preprocessing.StandardScaler().fit(X_train_bert)\n",
        "scaler_Xval_bert = preprocessing.StandardScaler().fit(X_val_bert)\n",
        "\n",
        "X_train_bert_scaled = scaler_Xtrain_bert.transform(X_train_bert)\n",
        "X_val_bert_scaled = scaler_Xval_bert.transform(X_val_bert)"
      ],
      "execution_count": null,
      "outputs": []
    },
    {
      "cell_type": "code",
      "metadata": {
        "id": "h-1O46FQhtnD"
      },
      "source": [
        "def create_multiclass_model():\n",
        "    input_dim = X_train_bert_scaled.shape[1]  # Number of features\n",
        "\n",
        "    model = Sequential()\n",
        "    model.add(layers.Dense(512, input_dim=input_dim, activation='relu'))\n",
        "    model.add(layers.Dropout(0.5))\n",
        "    model.add(layers.Dense(512, input_dim=input_dim, activation='relu'))\n",
        "    model.add(layers.Dropout(0.5))\n",
        "    model.add(layers.Dense(64, input_dim=input_dim, activation='relu'))\n",
        "    model.add(layers.Dense(15, activation='softmax')) # activation = {sigmoid (for multi-label) ; softmax (for multi-class)} \n",
        "\n",
        "    # use binary_crossentropy for multi-label classification (classify more than one topics per document)\n",
        "    # use categorical_crossentropy for multi-class classification (classify one topic per document)\n",
        "    model.compile(loss='categorical_crossentropy', optimizer='adam', \n",
        "                  metrics=['accuracy'])\n",
        "    \n",
        "    return model"
      ],
      "execution_count": null,
      "outputs": []
    },
    {
      "cell_type": "code",
      "metadata": {
        "colab": {
          "base_uri": "https://localhost:8080/"
        },
        "id": "CtHm_A7GgbMt",
        "outputId": "2c22579c-14f7-4ec5-8181-8ffaf8cfe7d3"
      },
      "source": [
        "model = create_multiclass_model()\n",
        "earlyStopping = callbacks.EarlyStopping(monitor='val_accuracy', patience=12)\n",
        "modelCheckpoint = callbacks.ModelCheckpoint('/content/gdrive/MyDrive/Colab Notebooks/TopicModelingAndClassification/NeuralN_multi_class.hdf5', save_best_only=True, monitor='val_accuracy', mode='max')\n",
        "#reduce_lr = callbacks.ReduceLROnPlateau(monitor='val_loss', factor=0.8,patience=10, min_lr=0.001)\n",
        "history = model.fit(X_train_bert_scaled, y_train,\n",
        "                    epochs=80,\n",
        "                    validation_data=(X_val_bert_scaled, y_test),\n",
        "                    batch_size=10, callbacks=[earlyStopping,modelCheckpoint])"
      ],
      "execution_count": null,
      "outputs": [
        {
          "output_type": "stream",
          "text": [
            "Epoch 1/80\n",
            "861/861 [==============================] - 8s 8ms/step - loss: 2.0966 - accuracy: 0.3509 - val_loss: 1.5895 - val_accuracy: 0.4803\n",
            "Epoch 2/80\n",
            "861/861 [==============================] - 6s 7ms/step - loss: 1.6290 - accuracy: 0.4612 - val_loss: 1.4788 - val_accuracy: 0.5289\n",
            "Epoch 3/80\n",
            "861/861 [==============================] - 7s 8ms/step - loss: 1.5141 - accuracy: 0.5088 - val_loss: 1.4420 - val_accuracy: 0.5303\n",
            "Epoch 4/80\n",
            "861/861 [==============================] - 6s 7ms/step - loss: 1.4170 - accuracy: 0.5323 - val_loss: 1.3801 - val_accuracy: 0.5592\n",
            "Epoch 5/80\n",
            "861/861 [==============================] - 6s 7ms/step - loss: 1.3409 - accuracy: 0.5591 - val_loss: 1.3868 - val_accuracy: 0.5651\n",
            "Epoch 6/80\n",
            "861/861 [==============================] - 7s 8ms/step - loss: 1.2837 - accuracy: 0.5753 - val_loss: 1.3599 - val_accuracy: 0.5605\n",
            "Epoch 7/80\n",
            "861/861 [==============================] - 6s 7ms/step - loss: 1.2240 - accuracy: 0.5925 - val_loss: 1.3434 - val_accuracy: 0.5625\n",
            "Epoch 8/80\n",
            "861/861 [==============================] - 6s 7ms/step - loss: 1.2365 - accuracy: 0.5902 - val_loss: 1.3141 - val_accuracy: 0.5763\n",
            "Epoch 9/80\n",
            "861/861 [==============================] - 6s 7ms/step - loss: 1.1738 - accuracy: 0.6088 - val_loss: 1.3190 - val_accuracy: 0.5645\n",
            "Epoch 10/80\n",
            "861/861 [==============================] - 6s 8ms/step - loss: 1.1247 - accuracy: 0.6347 - val_loss: 1.3170 - val_accuracy: 0.5796\n",
            "Epoch 11/80\n",
            "861/861 [==============================] - 6s 7ms/step - loss: 1.1022 - accuracy: 0.6387 - val_loss: 1.3204 - val_accuracy: 0.5849\n",
            "Epoch 12/80\n",
            "861/861 [==============================] - 7s 8ms/step - loss: 1.1033 - accuracy: 0.6343 - val_loss: 1.3080 - val_accuracy: 0.5914\n",
            "Epoch 13/80\n",
            "861/861 [==============================] - 7s 8ms/step - loss: 1.0613 - accuracy: 0.6496 - val_loss: 1.3165 - val_accuracy: 0.5836\n",
            "Epoch 14/80\n",
            "861/861 [==============================] - 7s 8ms/step - loss: 1.0389 - accuracy: 0.6601 - val_loss: 1.3019 - val_accuracy: 0.6007\n",
            "Epoch 15/80\n",
            "861/861 [==============================] - 7s 8ms/step - loss: 1.0323 - accuracy: 0.6646 - val_loss: 1.3124 - val_accuracy: 0.5697\n",
            "Epoch 16/80\n",
            "861/861 [==============================] - 5s 6ms/step - loss: 0.9962 - accuracy: 0.6718 - val_loss: 1.3182 - val_accuracy: 0.5888\n",
            "Epoch 17/80\n",
            "861/861 [==============================] - 5s 6ms/step - loss: 0.9691 - accuracy: 0.6792 - val_loss: 1.3166 - val_accuracy: 0.5888\n",
            "Epoch 18/80\n",
            "861/861 [==============================] - 6s 6ms/step - loss: 0.9352 - accuracy: 0.6888 - val_loss: 1.3302 - val_accuracy: 0.5776\n",
            "Epoch 19/80\n",
            "861/861 [==============================] - 6s 6ms/step - loss: 0.9202 - accuracy: 0.7095 - val_loss: 1.3254 - val_accuracy: 0.5895\n",
            "Epoch 20/80\n",
            "861/861 [==============================] - 6s 6ms/step - loss: 0.9126 - accuracy: 0.7011 - val_loss: 1.3371 - val_accuracy: 0.5888\n",
            "Epoch 21/80\n",
            "861/861 [==============================] - 5s 6ms/step - loss: 0.8783 - accuracy: 0.7158 - val_loss: 1.3302 - val_accuracy: 0.5763\n",
            "Epoch 22/80\n",
            "861/861 [==============================] - 5s 6ms/step - loss: 0.8481 - accuracy: 0.7255 - val_loss: 1.3501 - val_accuracy: 0.5895\n",
            "Epoch 23/80\n",
            "861/861 [==============================] - 5s 6ms/step - loss: 0.8560 - accuracy: 0.7128 - val_loss: 1.3774 - val_accuracy: 0.5862\n",
            "Epoch 24/80\n",
            "861/861 [==============================] - 5s 6ms/step - loss: 0.8199 - accuracy: 0.7370 - val_loss: 1.3547 - val_accuracy: 0.5947\n",
            "Epoch 25/80\n",
            "861/861 [==============================] - 6s 7ms/step - loss: 0.7866 - accuracy: 0.7479 - val_loss: 1.3318 - val_accuracy: 0.6118\n",
            "Epoch 26/80\n",
            "861/861 [==============================] - 5s 6ms/step - loss: 0.7998 - accuracy: 0.7382 - val_loss: 1.3572 - val_accuracy: 0.5901\n",
            "Epoch 27/80\n",
            "861/861 [==============================] - 5s 6ms/step - loss: 0.7967 - accuracy: 0.7495 - val_loss: 1.3687 - val_accuracy: 0.6026\n",
            "Epoch 28/80\n",
            "861/861 [==============================] - 5s 6ms/step - loss: 0.7958 - accuracy: 0.7484 - val_loss: 1.3785 - val_accuracy: 0.5974\n",
            "Epoch 29/80\n",
            "861/861 [==============================] - 6s 6ms/step - loss: 0.7441 - accuracy: 0.7604 - val_loss: 1.3597 - val_accuracy: 0.6033\n",
            "Epoch 30/80\n",
            "861/861 [==============================] - 5s 6ms/step - loss: 0.7195 - accuracy: 0.7699 - val_loss: 1.3625 - val_accuracy: 0.5974\n",
            "Epoch 31/80\n",
            "861/861 [==============================] - 5s 6ms/step - loss: 0.7270 - accuracy: 0.7753 - val_loss: 1.4022 - val_accuracy: 0.5914\n",
            "Epoch 32/80\n",
            "861/861 [==============================] - 5s 6ms/step - loss: 0.7198 - accuracy: 0.7700 - val_loss: 1.4370 - val_accuracy: 0.5961\n",
            "Epoch 33/80\n",
            "861/861 [==============================] - 5s 6ms/step - loss: 0.7238 - accuracy: 0.7712 - val_loss: 1.4093 - val_accuracy: 0.5914\n",
            "Epoch 34/80\n",
            "861/861 [==============================] - 5s 6ms/step - loss: 0.6918 - accuracy: 0.7826 - val_loss: 1.3928 - val_accuracy: 0.5993\n",
            "Epoch 35/80\n",
            "861/861 [==============================] - 5s 6ms/step - loss: 0.6426 - accuracy: 0.7879 - val_loss: 1.4975 - val_accuracy: 0.5941\n",
            "Epoch 36/80\n",
            "861/861 [==============================] - 5s 6ms/step - loss: 0.6690 - accuracy: 0.7930 - val_loss: 1.4020 - val_accuracy: 0.6026\n",
            "Epoch 37/80\n",
            "861/861 [==============================] - 5s 6ms/step - loss: 0.6557 - accuracy: 0.7902 - val_loss: 1.4496 - val_accuracy: 0.6007\n"
          ],
          "name": "stdout"
        }
      ]
    },
    {
      "cell_type": "code",
      "metadata": {
        "id": "21FbOO4ulHFj"
      },
      "source": [
        "plt.style.use('ggplot')\n",
        "\n",
        "def plot_history(history):\n",
        "    acc = history.history['accuracy']\n",
        "    val_acc = history.history['val_accuracy']\n",
        "    loss = history.history['loss']\n",
        "    val_loss = history.history['val_loss']\n",
        "    x = range(1, len(acc) + 1)\n",
        "\n",
        "    plt.figure(figsize=(12, 5))\n",
        "    plt.subplot(1, 2, 1)\n",
        "    plt.plot(x, acc, 'b', label='Training acc')\n",
        "    plt.plot(x, val_acc, 'r', label='Validation acc')\n",
        "    plt.title('Training and validation accuracy')\n",
        "    plt.legend()\n",
        "    plt.subplot(1, 2, 2)\n",
        "    plt.plot(x, loss, 'b', label='Training loss')\n",
        "    plt.plot(x, val_loss, 'r', label='Validation loss')\n",
        "    plt.title('Training and validation loss')\n",
        "    plt.legend()"
      ],
      "execution_count": null,
      "outputs": []
    },
    {
      "cell_type": "code",
      "metadata": {
        "colab": {
          "base_uri": "https://localhost:8080/",
          "height": 337
        },
        "id": "r7KEKmYKlVlg",
        "outputId": "93aa4687-88fb-4502-eff8-fd409cfc1512"
      },
      "source": [
        "plot_history(history)"
      ],
      "execution_count": null,
      "outputs": [
        {
          "output_type": "display_data",
          "data": {
            "image/png": "[encoded data removed]",
            "text/plain": [
              "<Figure size 864x360 with 2 Axes>"
            ]
          },
          "metadata": {
            "tags": []
          }
        }
      ]
    },
    {
      "cell_type": "code",
      "metadata": {
        "id": "XH8ykiRMidJn",
        "colab": {
          "base_uri": "https://localhost:8080/"
        },
        "outputId": "8a63f623-25e1-482a-d71a-8c63bab4822b"
      },
      "source": [
        "def check_dominant_topic(text, X_val):\n",
        "\n",
        "    # load the model from the file for multiclass classification\n",
        "    model = keras.models.load_model('/content/gdrive/MyDrive/Colab Notebooks/TopicModelingAndClassification/NeuralN_multi_class.hdf5')\n",
        "\n",
        "    for i in range(10):\n",
        "\n",
        "        pred = model.predict_classes(np.array([X_val[i]]))\n",
        "        print(\"The dominant topic for the text :  \", text[i:i+1].tolist()[0], ' is ::: \\n-------------',\n",
        "              topic_from_topic_cluster[pred[0]],'-------------\\n')\n",
        "\n",
        "check_dominant_topic(X_test, X_val_bert_scaled)"
      ],
      "execution_count": null,
      "outputs": [
        {
          "output_type": "stream",
          "text": [
            "/usr/local/lib/python3.7/dist-packages/tensorflow/python/keras/engine/sequential.py:455: UserWarning: `model.predict_classes()` is deprecated and will be removed after 2021-01-01. Please use instead:* `np.argmax(model.predict(x), axis=-1)`,   if your model does multi-class classification   (e.g. if it uses a `softmax` last-layer activation).* `(model.predict(x) > 0.5).astype(\"int32\")`,   if your model does binary classification   (e.g. if it uses a `sigmoid` last-layer activation).\n",
            "  warnings.warn('`model.predict_classes()` is deprecated and '\n"
          ],
          "name": "stderr"
        },
        {
          "output_type": "stream",
          "text": [
            "The dominant topic for the text :   Took my money could not supply mybad news. Took my money could not supply my correct tyre and never replied to four emails  is ::: \n",
            "------------- wait time -------------\n",
            "\n",
            "The dominant topic for the text :   Excellent price, superb service. Chose to have tyres fitted at home, fitters confirmed booking, then called to see if an earlier appointment could suit as tyres arrived early, polite, professional and not at all pushy.  is ::: \n",
            "------------- wait time -------------\n",
            "\n",
            "The dominant topic for the text :   I have used you in the past and had excellent service, the past company I had the tyres fitted at were excellent, but no longer one of your options for fitting now. I chose your premium fitter in Basingstoke, Formula One Auto - and they were awful. Their customer service was non existent. I phoned up and got a quote for having the wheels tracked, they quoted £ for front and £ for front and back if needed, but I probably only had the fronts that it was possible to do. With this I sent my husband to have the tyres fitted, so when they charged him £ he paid assuming it had been front and back that needed. They took nearly  hours from our apointment to fit the tyres, way longer than it should have for  tyres. I phoned them and said that the paperwork clearly stated only the front had been balanced and was given a wishy washy excuse for the over charge, which, because I know about cars I knew to be rubbish, he then said that they couldnt refund the over charge directly and needed to have a cheque sent to me, which I would get in a week. I then discovered the next day when I took the car out for a drive that they had under inflated all of the tyres by  to  psi. After  days I phoned back and advised the regional manager who answered the phone at the branch about the under inlfation and that the cheque had not arrived. I was promised a call back, which never came. A week later I chased again, again promised a call back and again did not hear from them. A few days later I called again and got the regional manager again who promised a call back, but still did not call. a few days later I eventually got the cheque refund through. The tyres themselves are good, but the company who represents you for fitting is by far one of the worse and clearly try to take advantage of people who they think know nothing about cars. Thankfully although my husband doesnt I do, it is disgusting that they tried to take advantage and over charge people. So for that reason whilst I may still recommend REDACTED for tyres I would be very, very, very careful about who fits mine in the future and advise anyone else to be too.  is ::: \n",
            "------------- tyre quality -------------\n",
            "\n",
            "The dominant topic for the text :   Would have preferred notification of what time the fitter would arrive and a contact the day before other than that perfect  is ::: \n",
            "------------- change of date, booking confusion -------------\n",
            "\n",
            "The dominant topic for the text :   Website easy to use. Garage helpful and efficient. Good price.  is ::: \n",
            "------------- value for money -------------\n",
            "\n",
            "The dominant topic for the text :   Best price, easy to order, efficient and friendly fitters  is ::: \n",
            "------------- value for money -------------\n",
            "\n",
            "The dominant topic for the text :   A very efficient, high value and flexible system that I have used now on four occasions and will continue to do so.  is ::: \n",
            "------------- delivery punctuality -------------\n",
            "\n",
            "The dominant topic for the text :   Polite quick and efficient service. Person who acted as the company representative was polite and helpful. I was met as I arrived and was dealt with straight away no waiting around. The premises were very basic but seemed to run efficiently - all seemed neat and tidy and will organised. I was near a large Tesco store so I was able to do some shopping as they got on with my tyres. I received a call on my mobile phone when the work was complete. I picked up my car straight away everything seemed in order. They could not give me the usual receipt but gave me a copy of the worksheet instead.  is ::: \n",
            "------------- wait time -------------\n",
            "\n",
            "The dominant topic for the text :   Easy to order online and book a slot. Good price, convenient location. Guys doing the work were very polite and kept me informed.  is ::: \n",
            "------------- garage service -------------\n",
            "\n",
            "The dominant topic for the text :   Make appt then told tyres werent delivered then told they were so managed to keep same slot. Good value tyres and excellent service by Tudor Car Services Barrow in Furness  is ::: \n",
            "------------- tire quality -------------\n",
            "\n"
          ],
          "name": "stdout"
        }
      ]
    },
    {
      "cell_type": "code",
      "metadata": {
        "id": "eMGkF7_6hq5f"
      },
      "source": [
        "def transformLabelsforLRCompatibility(y_train, y_val):\n",
        "    compatible_y_train = []\n",
        "    compatible_y_test = []\n",
        "    for labels in y_train:\n",
        "        for i in range(labels.shape[0]):\n",
        "            if labels[i]==1:\n",
        "                compatible_y_train.append(i)\n",
        "                break\n",
        "    for labels in y_val:\n",
        "        for i in range(labels.shape[0]):\n",
        "            if labels[i]==1:\n",
        "                compatible_y_test.append(i)\n",
        "                break\n",
        "    compatible_y_train = np.array(compatible_y_train)\n",
        "    compatible_y_test = np.array(compatible_y_test)\n",
        "    \n",
        "    return (compatible_y_train, compatible_y_test)"
      ],
      "execution_count": null,
      "outputs": []
    },
    {
      "cell_type": "code",
      "metadata": {
        "colab": {
          "base_uri": "https://localhost:8080/"
        },
        "id": "qtDcl248iC1d",
        "outputId": "1c43407e-c8e6-43c6-b396-65d6a077646d"
      },
      "source": [
        "\"\"\" use Logistic regression for multi-class only as it will not support multi-label (use annotated_dataset_single_topic.csv for multi-class\"\"\"\n",
        "\n",
        "classifier = LogisticRegression(max_iter=1000)\n",
        "\n",
        "#transform y train into LR compitable shape\n",
        "compatible_y_train, compatible_y_test = transformLabelsforLRCompatibility(y_train, y_test)\n",
        "\n",
        "classifier.fit(X_train_bert_scaled, compatible_y_train)\n",
        "predictions = classifier.predict(X_val_bert_scaled)\n",
        "print(\"Logistic Regression Accuracy = \", accuracy_score(compatible_y_test,predictions))"
      ],
      "execution_count": null,
      "outputs": [
        {
          "output_type": "stream",
          "text": [
            "Logistic Regression Accuracy =  0.5552631578947368\n"
          ],
          "name": "stdout"
        }
      ]
    },
    {
      "cell_type": "code",
      "metadata": {
        "id": "FY_CQegZnOTE"
      },
      "source": [
        "with open('/content/gdrive/MyDrive/Colab Notebooks/TopicModelingAndClassification/LR_multiClassModel.pkl', 'wb') as filehandle:\n",
        "    # store the data as binary data stream\n",
        "    pickle.dump(classifier, filehandle)"
      ],
      "execution_count": null,
      "outputs": []
    },
    {
      "cell_type": "code",
      "metadata": {
        "id": "ovjfGdhdcvx7"
      },
      "source": [
        ""
      ],
      "execution_count": null,
      "outputs": []
    }
  ]
}